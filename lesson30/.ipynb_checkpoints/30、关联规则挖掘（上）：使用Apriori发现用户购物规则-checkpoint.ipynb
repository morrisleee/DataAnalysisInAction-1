{
 "cells": [
  {
   "cell_type": "markdown",
   "metadata": {},
   "source": [
    "# 30、关联规则挖掘：使用Apriori发现用户购物规则"
   ]
  },
  {
   "cell_type": "markdown",
   "metadata": {},
   "source": [
    "1、关联规则这个概念有Agrawal等人提出，1994年提出关于关联规则的Apriori算法，至今Apriori任然是关联规则挖掘的重要算法。\n",
    "\n",
    "2、关联规则挖掘可以让我们从数据集中发现项与项之间（item与item）之间的关系，它在我们的生活中有很多应用的场景，“购物篮分析”就是一个常见的场景，这个场景可以从消费者交易的记录中发掘商品与商品之间的关联关系，进而通过商品的捆绑销售或者相关的推荐的方式带来更多的销售量。所以说关联规则是个非常有用的技术。\n",
    "\n",
    "我们先来搞懂一下的几个技术知识点：\n",
    "- 1、搞懂关联规则中的几个重要的概念：支持度、置信度、提上度\n",
    "- 2、Apriori算法的工作原理\n",
    "- 3、在实际的工作中，我们应该如何进行关联规则的挖掘"
   ]
  },
  {
   "cell_type": "markdown",
   "metadata": {},
   "source": [
    "## 搞懂关联规则中的几个概念"
   ]
  },
  {
   "cell_type": "markdown",
   "metadata": {},
   "source": [
    "列举一个例子，下面是几名客户购买的商品的列表：\n",
    "\n",
    "|订单编号|购买的商品|\n",
    "|--|--|\n",
    "|1|牛奶、面包、尿布|\n",
    "|2|可乐、面包、尿布、啤酒|\n",
    "|3|牛奶、尿布、啤酒、鸡蛋|\n",
    "|4|面包、牛奶、尿布、啤酒|\n",
    "|5|面包、牛奶、尿布、可乐|"
   ]
  },
  {
   "cell_type": "markdown",
   "metadata": {},
   "source": [
    "### 什么是支持度？\n",
    "支持度是个百分百比，它值的是某个商品组合出现的次数与总次数之间的比例。支持度越高，代表这个组合出现的频率越大。\n",
    "\n",
    "在这个例子中，我们可以看到“牛奶”出现了4次，那么这5笔订单中“牛奶”的支持度就是4/5=0.8.\n",
    "\n",
    "同样“牛奶+面包”出现了3次，那么这5笔订单中“牛奶+面包”的支持度就是3/5=0.6.\n",
    "\n",
    "### 什么是置信度\n",
    "它指的是当你购买了商品A，会有多大的概率购买商品B，在上面的这个例子中：\n",
    "\n",
    "置信度（牛奶->啤酒）=2/4=0.5，代表如果你购买了牛奶，有多大的概率会购买啤酒？\n",
    "\n",
    "置信度（啤酒->牛奶）=2/3=0.67,代表了如果你购买了啤酒，有多大的概率会购买牛奶？\n",
    "\n",
    "我们能够看到，在4次购买了牛奶的条件下，有2次购买了啤酒，所以置信度（牛奶->啤酒）=0.5，而在3次购买了啤酒的情况下，有2次购买了牛奶，所以置信度（啤酒->牛奶）=0.67\n",
    "\n",
    "所以置信度是个条件的概念，就是说在A发生的情况下，B发生的概率是多少。\n",
    "\n",
    "### 什么是提升度\n",
    "我们在做商品的推荐的时候，重点考虑的是提升度，因为提升度代表的是“商品A的出现，对商品B的出现概率提升的”程度。\n",
    "\n",
    "还是看上面的例子，如果我们单纯看置信度（可乐->尿布）=1，也就是说可乐出现的时候，用户都会买尿布，那么当用户购买可乐的时候，我们是否需要推荐尿布？\n",
    "\n",
    "实际上，就算用户不购买可乐，也会直接购买尿布的，所以用户是否购买可乐，对尿布的提升作用并不大。我么可以使用下面的公式来计算商品A对商品B的提升度：\n",
    "\n",
    "提升度（A->B）=置信度（A->B）/支持度（B）\n",
    "\n",
    "这个公式是用来衡量A出现的情况下，是否会对B出现的概率有所提升。\n",
    "\n",
    "所以提升度有三种可能：\n",
    "- 1、提升度（A->B）>1:代表有提升\n",
    "- 2、提升度（A->B）=1：代表没有提升，也没有下降\n",
    "- 3、提升度（A->B）<1:代表有下降。\n"
   ]
  },
  {
   "cell_type": "markdown",
   "metadata": {},
   "source": [
    "## Apriori的工作原理"
   ]
  },
  {
   "cell_type": "markdown",
   "metadata": {},
   "source": [
    "明白了关联规则中的支持度、置信度和提升度这几个重要的概念，接下来我们来看一下Apriori算法是如何进行工作的。\n",
    "\n",
    "首先我们把上面的例子中的商品用ID来代表，牛奶、面包、尿布、可乐、啤酒、鸡蛋的商品ID分别设置为1-6，上面的数据表可以改变为：\n",
    "\n",
    "|订单编号|购买的商品|\n",
    "|--|--|\n",
    "|1|1、2、3|\n",
    "|2|4、2、3、5|\n",
    "|3|1、3、5、6|\n",
    "|4|2、1、3、5|\n",
    "|5|2、1、3、4|\n",
    "\n",
    "\n",
    "Apriori算法其实就是查找频繁项集（frequent itemset）的过程，所以首先我们需要定义什么是频繁项集。\n",
    "\n",
    "频繁项集就是支持度大于等于最小支持度（MinSupport）阈值的项集，所以小于最小支持度的项目就是非频繁项集，而大于等于最小支持度的项集就是频繁项集。\n",
    "\n",
    "项集这个概念，英文叫做itemset，它可以是单个的商品，也可以是商品的组合。在看下这个例子，假设随机指定最小支持度是50%，也就是0.5.\n",
    "\n",
    "我们再来看下Apriori算法是如何运算的。\n",
    "\n",
    "首先，我们先计算单个商品的支持度，可就是得到K=1项的支持度：\n",
    "\n",
    "|商品项集|支持度|\n",
    "|--|--|\n",
    "|1|4/5|\n",
    "|2|4/5|\n",
    "|3|5/5|\n",
    "|4|2/5|\n",
    "|5|3/5|\n",
    "|6|1/5|\n",
    "\n",
    "因为最小的支持度是0.5，所以你能看到商品4,6是不符合最小支持度的，不属于频繁项集，于是经过筛选商品的频繁项集就变成\n",
    "\n",
    "|商品项集|支持度|\n",
    "|--|--|\n",
    "|1|4/5|\n",
    "|2|4/5|\n",
    "|3|5/5|\n",
    "|5|3/5|\n",
    "\n",
    "在这个基础上，我们将商品两两组合，得到k=2项的支持度：\n",
    "\n",
    "|商品项集|支持度|\n",
    "|--|--|\n",
    "|1,2|3/5|\n",
    "|1,3|1/5|\n",
    "|1,5|2/5|\n",
    "|2,3|4/5|\n",
    "|2,5|2/5|\n",
    "|3,5|3/5|\n",
    "\n",
    "再筛掉小于最小值支持度的商品组合，可以得到：\n",
    "\n",
    "|商品项集|支持度|\n",
    "|--|--|\n",
    "|1,2|3/5|\n",
    "|2,3|4/5|\n",
    "|3,5|3/5|\n",
    "\n",
    "我们再对K=3项的商品组合，可以得到：\n",
    "\n",
    "|商品项集|支持度|\n",
    "|--|--|\n",
    "|1,2,3|3/5|\n",
    "|2,3,5|2/5|\n",
    "|1,2,5|1/5|\n",
    "\n",
    "再筛掉小于最小值支持度的商品组合，可以得到：\n",
    "\n",
    "|商品项集|支持度|\n",
    "|--|--|\n",
    "|1,2,3|3/5|\n",
    "\n",
    "通过上面的这个过程，我们可以得到K=3项的频繁项集{1,2,3}，可就是{牛奶，面包，尿布}的组合。\n",
    "\n",
    "到这里，我们已经模拟了一遍整个Apriori算法的流程，总结一下Apriori算法的递归流程：\n",
    "\n",
    "- 1、K=1，计算K项集的支持度；\n",
    "- 2、筛选掉小于最小支持度的项集；\n",
    "- 3、如果项集为空，则对应的K-1项集的结果为最终的结果。\n",
    "\n",
    "否则K=K+1，重复1-3步骤。\n"
   ]
  },
  {
   "cell_type": "markdown",
   "metadata": {},
   "source": [
    "## Apriori的改进算法：FP-Growth算法"
   ]
  },
  {
   "cell_type": "markdown",
   "metadata": {},
   "source": [
    "从上面模拟的Apriori的算法流程可以看出，该算法在计算的过程中有以下几个缺点：\n",
    "\n",
    "1、可能长生大量的候选集合。因为采用排列组合的方式，把可能的项集都组合起来了；\n",
    "\n",
    "2、每次计算都需要重新扫描数据集，类计算每个项集的支持度。\n",
    "\n",
    "所以Apriori算法会浪费很多计算空间和计算时间，因此人们提出了FP-Growth算法，它的特点是：\n",
    "\n",
    "- 1、创建一棵FP树来存储频繁项集。在创建前对于不满足最小支持度的项进行删除，减少了存储空间。\n",
    "- 2、整个生成过程只遍历数据集两次，大大减少了计算量。\n",
    "\n",
    "所以在实际的工作中，我们常常用FP—Growth来做频繁项集的挖掘，那么，FP-Growth算法的原理是怎样的？\n",
    "\n",
    "### 1、创建项头表（itemheader table）\n",
    "创建项头表的作用是为FP构建及频繁项集挖掘提供索引。\n",
    "\n",
    "这一步的流程是先扫描一遍数据集，对于满足最小支持度的单个项（K=1项集）按照支持度从高到低进行排序，这个过程中删除了不少的满足最小支持度的项。\n",
    "\n",
    "项头表包括了项目、支持度、以及该项在FP树中的链表。初始的时候链表为空。\n",
    "\n",
    "|项|支持度|链表|\n",
    "|--|--|--|\n",
    "|尿布|5||\n",
    "|牛奶|4||\n",
    "|面包|4||\n",
    "|啤酒|3||\n",
    "\n",
    "### 2、构造FP树\n",
    "FP树的根节点记为NULL节点\n",
    "\n",
    "整个流程是需要再次扫描数据集，对于每一条数据，按照支持度从高到低的顺序进行创建节点（也就是第一步中项头表中的排序结果），节点如果存在就将计数count+1，如果不存在就进行创建。同时在创建的过程中，需要更新项头表的链表。\n",
    "![](FP项头表.png)\n",
    "\n",
    "### 3、通过FP树挖掘频繁项集\n",
    "到这里我们就得到了一个存储频繁项集的FP树，以及一个表头项。我们可以通过项头表来挖掘出每个频繁项集。\n",
    "\n",
    "具体的操作会用到一个概念，叫做“条件模式基”，它指的是以要挖掘的结点为叶子结点，自底向上求出FP子树，然后将FP子树的祖先结点设置为叶子结点之和。\n",
    "\n",
    "例如以“啤酒”的结点为例，从FP树中可以得到一颗FP树，将祖先结点的支持度记为叶子结点之和，得到：\n",
    "![](FP树频繁项集挖掘.png)\n",
    "\n",
    "我们可以看出，相比于原来的FP树，尿布和牛奶的频繁项集数减少了。这是因为我们求得是以“啤酒”为结点的FP子树，也就是说，在频繁项集中一定要含有“啤酒”这个项。我们再来看一下原始的数据，其中订单1{牛奶、面包、尿布}和订单5{牛奶、面包、尿布、可乐}并不存在“啤酒”这个项，所以针对订单1，尿布->牛奶->面包这个项集就会从FP树中去掉，针对订单5也包括了尿布->牛奶->面包这个项集也会从FP树中去掉，所以你能看到以“啤酒”为结点的FP子树，尿布、牛奶、面包项集上的计数也会比原来少了2。\n",
    "\n",
    "条件模式基不包括“啤酒”结点，而且祖先节点如果小于最小支持度就会被剪枝，所以“啤酒”的条件模式基为空。\n",
    "\n",
    "同理，我们得到“面包”地条件模式基为:\n",
    "![](面包的条件模式基.png)\n",
    "\n",
    "所以可以求得面包的频繁项集为{尿布、面包}，{尿布，牛奶，面包}。同样，饿哦们还可以求得牛奶，尿布的频繁项集。\n",
    "\n",
    "## 总结\n",
    "1、对于Apriori算法，它是在“购物篮分析”中常常用到的关联规则挖掘算法，在Apriori算法中我们要明白**支持度、置信度、提升度**这几个概念，以及APriori迭代计算频繁项集的工作流程。\n",
    "\n",
    "2、Apriori算法在实际的工作中需要对数据集扫描多次，会消耗大量的计算时间，所以在2000年FP-Growth算法 就被提出来，它只需要扫描两次数据集即可以完成关联规则的挖掘。FP—Growth算法最主要的贡献就是FP树和项头表，通过FP树减少了频繁项集的存储以及计算时间。\n",
    "\n",
    "3、当然Apriori算法的改进除了FP-Growth算法以外还有CBA算法、GSP算法\n",
    "\n",
    "4、我们发现一种新的理论的提出，往往是从最先的最原始的概念出发，提出一种新的方法。原始的概念最接近人们的模拟的过程，但是往往存在空间和时间的复杂度过高的情况。所以后面其他人会对这个方法做出改进型的创新，重点是在空间和时间的复杂度上进行降维，比如采用的新型的数据结构。我们发现树在存储检索中是一个非常好用的数据结构。\n",
    "\n",
    "5、Apriori\n",
    "- 基本概念\n",
    "    - 关联规则的挖掘：从数据集中发现项与项的关系，常常用于“购物篮分析”中\n",
    "    - 支持度：某个商品组合出现的次数与总次数之间的比例\n",
    "    - 置信度：它指的是当你购买了商品A，会有多大的概率购买商品B\n",
    "    - 提升度：商品A的出现，对商品B的出现概率提升了多少\n",
    "- Apriori工作原理\n",
    "    - Step1 K=1，计算K-项集的支持度\n",
    "    - Step2筛选掉小于最小支持度的项集\n",
    "    - Step3 如果项集为空，则对应的K-1项集的结果为最终的结果，否则：K=K+1，重复Step1-3\n",
    "- FP-Growth算法\n",
    "    - 基于Apriori的改进\n",
    "        - 通过创建FP树和项头表来存储频繁项集\n",
    "        - 整个生成过程只遍历数据集两次，大大减少了计算量。\n",
    "    - 工作原理\n",
    "        - Step1：创建表头项，对于满足最小支持度的单个项（K=1项集）按照支持度从高到低进行排序，删除了不满足最小支持度的项\n",
    "        - Step2：构建FP树，FP树的根节点记为NULL结点，再次扫描数据集，对于每一条数据，按照支持度从高到低的顺序进行创建结点（项头表中的排序结果），并更新结点计数和项头表中的链表。\n",
    "        - Step3：通过FP树挖掘频繁项集，运用到“条件模式基”的概念\n",
    "        \n",
    "![](Apriori.png)"
   ]
  },
  {
   "cell_type": "code",
   "execution_count": null,
   "metadata": {},
   "outputs": [],
   "source": []
  },
  {
   "cell_type": "code",
   "execution_count": null,
   "metadata": {},
   "outputs": [],
   "source": []
  },
  {
   "cell_type": "code",
   "execution_count": null,
   "metadata": {},
   "outputs": [],
   "source": []
  },
  {
   "cell_type": "code",
   "execution_count": null,
   "metadata": {},
   "outputs": [],
   "source": []
  },
  {
   "cell_type": "code",
   "execution_count": null,
   "metadata": {},
   "outputs": [],
   "source": []
  },
  {
   "cell_type": "code",
   "execution_count": null,
   "metadata": {},
   "outputs": [],
   "source": []
  },
  {
   "cell_type": "code",
   "execution_count": null,
   "metadata": {},
   "outputs": [],
   "source": []
  },
  {
   "cell_type": "code",
   "execution_count": null,
   "metadata": {},
   "outputs": [],
   "source": []
  },
  {
   "cell_type": "code",
   "execution_count": null,
   "metadata": {},
   "outputs": [],
   "source": []
  },
  {
   "cell_type": "code",
   "execution_count": null,
   "metadata": {},
   "outputs": [],
   "source": []
  },
  {
   "cell_type": "code",
   "execution_count": null,
   "metadata": {},
   "outputs": [],
   "source": []
  },
  {
   "cell_type": "code",
   "execution_count": null,
   "metadata": {},
   "outputs": [],
   "source": []
  },
  {
   "cell_type": "code",
   "execution_count": null,
   "metadata": {},
   "outputs": [],
   "source": []
  },
  {
   "cell_type": "code",
   "execution_count": null,
   "metadata": {},
   "outputs": [],
   "source": []
  },
  {
   "cell_type": "code",
   "execution_count": null,
   "metadata": {},
   "outputs": [],
   "source": []
  },
  {
   "cell_type": "code",
   "execution_count": null,
   "metadata": {},
   "outputs": [],
   "source": []
  },
  {
   "cell_type": "code",
   "execution_count": null,
   "metadata": {},
   "outputs": [],
   "source": []
  },
  {
   "cell_type": "code",
   "execution_count": null,
   "metadata": {},
   "outputs": [],
   "source": []
  },
  {
   "cell_type": "code",
   "execution_count": null,
   "metadata": {},
   "outputs": [],
   "source": []
  },
  {
   "cell_type": "code",
   "execution_count": null,
   "metadata": {},
   "outputs": [],
   "source": []
  },
  {
   "cell_type": "code",
   "execution_count": null,
   "metadata": {},
   "outputs": [],
   "source": []
  },
  {
   "cell_type": "code",
   "execution_count": null,
   "metadata": {},
   "outputs": [],
   "source": []
  },
  {
   "cell_type": "code",
   "execution_count": null,
   "metadata": {},
   "outputs": [],
   "source": []
  },
  {
   "cell_type": "code",
   "execution_count": null,
   "metadata": {},
   "outputs": [],
   "source": []
  },
  {
   "cell_type": "code",
   "execution_count": null,
   "metadata": {},
   "outputs": [],
   "source": []
  },
  {
   "cell_type": "code",
   "execution_count": null,
   "metadata": {},
   "outputs": [],
   "source": []
  },
  {
   "cell_type": "code",
   "execution_count": null,
   "metadata": {},
   "outputs": [],
   "source": []
  },
  {
   "cell_type": "code",
   "execution_count": null,
   "metadata": {},
   "outputs": [],
   "source": []
  },
  {
   "cell_type": "code",
   "execution_count": null,
   "metadata": {},
   "outputs": [],
   "source": []
  },
  {
   "cell_type": "code",
   "execution_count": null,
   "metadata": {},
   "outputs": [],
   "source": []
  },
  {
   "cell_type": "code",
   "execution_count": null,
   "metadata": {},
   "outputs": [],
   "source": []
  },
  {
   "cell_type": "code",
   "execution_count": null,
   "metadata": {},
   "outputs": [],
   "source": []
  },
  {
   "cell_type": "code",
   "execution_count": null,
   "metadata": {},
   "outputs": [],
   "source": []
  },
  {
   "cell_type": "code",
   "execution_count": null,
   "metadata": {},
   "outputs": [],
   "source": []
  },
  {
   "cell_type": "code",
   "execution_count": null,
   "metadata": {},
   "outputs": [],
   "source": []
  },
  {
   "cell_type": "code",
   "execution_count": null,
   "metadata": {},
   "outputs": [],
   "source": []
  },
  {
   "cell_type": "code",
   "execution_count": null,
   "metadata": {},
   "outputs": [],
   "source": []
  },
  {
   "cell_type": "code",
   "execution_count": null,
   "metadata": {},
   "outputs": [],
   "source": []
  },
  {
   "cell_type": "code",
   "execution_count": null,
   "metadata": {},
   "outputs": [],
   "source": []
  },
  {
   "cell_type": "code",
   "execution_count": null,
   "metadata": {},
   "outputs": [],
   "source": []
  },
  {
   "cell_type": "code",
   "execution_count": null,
   "metadata": {},
   "outputs": [],
   "source": []
  },
  {
   "cell_type": "code",
   "execution_count": null,
   "metadata": {},
   "outputs": [],
   "source": []
  },
  {
   "cell_type": "code",
   "execution_count": null,
   "metadata": {},
   "outputs": [],
   "source": []
  },
  {
   "cell_type": "code",
   "execution_count": null,
   "metadata": {},
   "outputs": [],
   "source": []
  },
  {
   "cell_type": "code",
   "execution_count": null,
   "metadata": {},
   "outputs": [],
   "source": []
  },
  {
   "cell_type": "code",
   "execution_count": null,
   "metadata": {},
   "outputs": [],
   "source": []
  },
  {
   "cell_type": "code",
   "execution_count": null,
   "metadata": {},
   "outputs": [],
   "source": []
  },
  {
   "cell_type": "code",
   "execution_count": null,
   "metadata": {},
   "outputs": [],
   "source": []
  },
  {
   "cell_type": "code",
   "execution_count": null,
   "metadata": {},
   "outputs": [],
   "source": []
  },
  {
   "cell_type": "code",
   "execution_count": null,
   "metadata": {},
   "outputs": [],
   "source": []
  },
  {
   "cell_type": "code",
   "execution_count": null,
   "metadata": {},
   "outputs": [],
   "source": []
  },
  {
   "cell_type": "code",
   "execution_count": null,
   "metadata": {},
   "outputs": [],
   "source": []
  },
  {
   "cell_type": "code",
   "execution_count": null,
   "metadata": {},
   "outputs": [],
   "source": []
  },
  {
   "cell_type": "code",
   "execution_count": null,
   "metadata": {},
   "outputs": [],
   "source": []
  },
  {
   "cell_type": "code",
   "execution_count": null,
   "metadata": {},
   "outputs": [],
   "source": []
  },
  {
   "cell_type": "code",
   "execution_count": null,
   "metadata": {},
   "outputs": [],
   "source": []
  },
  {
   "cell_type": "code",
   "execution_count": null,
   "metadata": {},
   "outputs": [],
   "source": []
  },
  {
   "cell_type": "code",
   "execution_count": null,
   "metadata": {},
   "outputs": [],
   "source": []
  },
  {
   "cell_type": "code",
   "execution_count": null,
   "metadata": {},
   "outputs": [],
   "source": []
  },
  {
   "cell_type": "code",
   "execution_count": null,
   "metadata": {},
   "outputs": [],
   "source": []
  },
  {
   "cell_type": "code",
   "execution_count": null,
   "metadata": {},
   "outputs": [],
   "source": []
  },
  {
   "cell_type": "code",
   "execution_count": null,
   "metadata": {},
   "outputs": [],
   "source": []
  },
  {
   "cell_type": "code",
   "execution_count": null,
   "metadata": {},
   "outputs": [],
   "source": []
  },
  {
   "cell_type": "code",
   "execution_count": null,
   "metadata": {},
   "outputs": [],
   "source": []
  },
  {
   "cell_type": "code",
   "execution_count": null,
   "metadata": {},
   "outputs": [],
   "source": []
  },
  {
   "cell_type": "code",
   "execution_count": null,
   "metadata": {},
   "outputs": [],
   "source": []
  }
 ],
 "metadata": {
  "kernelspec": {
   "display_name": "Python 3",
   "language": "python",
   "name": "python3"
  },
  "language_info": {
   "codemirror_mode": {
    "name": "ipython",
    "version": 3
   },
   "file_extension": ".py",
   "mimetype": "text/x-python",
   "name": "python",
   "nbconvert_exporter": "python",
   "pygments_lexer": "ipython3",
   "version": "3.6.7"
  }
 },
 "nbformat": 4,
 "nbformat_minor": 2
}
