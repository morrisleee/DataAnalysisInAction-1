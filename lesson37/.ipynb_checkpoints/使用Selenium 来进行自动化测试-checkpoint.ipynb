{
 "cells": [
  {
   "cell_type": "markdown",
   "metadata": {},
   "source": [
    "# selenium 自动化测试工具的使用"
   ]
  },
  {
   "cell_type": "markdown",
   "metadata": {},
   "source": [
    "当我们使用自动化测试的时候，可以使用Selenium或者是Puppeteer工具。其中Puppeteer通过控制无头Chrome来完成浏览器的工作。这两个工具之间的区别在于：Selenium更加关注程序的执行流程本身，比如找到指定的元素，设置相应的值，然后点击操作。而Puppeteer是浏览器的视角，比如光标移动到某个元素上，键盘输入某个内容等。\n",
    "\n",
    "我们可以使用Selenium工具自动化模拟浏览器，重点是实现对元素的定位。可以使用Selenium WebDriver来岁页面HTML进行获取和解析，然后通过HTML中的XPath进行提取，读取响应的内容。\n",
    "\n",
    "那么如何使用Webdriver自带的元素定位功能，模拟浏览器的行为呢。首先需要知道其的基本的定位和操作知识：\n",
    "\n",
    "如果想要定位一个元素，可以通过id，name，class，tag 链接上的全部文本，连接上的部分文本、XPath或者CSS进行定位，在Selenium的WebDriver中为我们提供的一些方法如下（8种）：\n",
    "\n",
    "1、通过id定位：可以使用find_element_by_id()函数。比如想要定位id=loginName的元素，就可以使用browser.find_element_by_id(\"loginName\").\n",
    "2、通过name定位：可以使用find_element_by_name()函数，比如我们想要对name=key_word的元素进行定位，就可以使用browser.find_elemrnt_by_name(\"key_word\")。\n",
    "3、通过class定位：可以使用find_element_by_class_name()函数。\n",
    "4、通过tag定位：使用find_element_by_tag_name()函。\n",
    "5、通过link上的完整文本定位：使用find_element_by_link_text()函数。\n",
    "6、通过link上的部分文本定位：使用find_element_by_partial_link_text()函数。有时候超链接的文本很长，就可以通过查找部分的文本内容进行定位。\n",
    "7、通过XPath进行定位：使用find_element_by_xpath()函数。使用XPath定位的通用性比较好，因为id，name，class为多个的时候，或者元素没有这些属性值的时候，Xpath就可以帮助我们完成任务。\n",
    "8、通过CSS定位：使用find_element_by_css_selector()函数。CSS定位也是常用的定位方法，相比于XPath来说简洁。\n",
    "\n",
    "在获取到某个元素之后，就可以对这个元素记性操作了。对元素的操作如下：\n",
    "\n",
    "1、清空输入框的内容：使用clear()函数；\n",
    "2、在输入框中输入内容:使用send_keys(content)函数传入要输入的文本；\n",
    "3、点击按钮：使用click()函数，如果元素是个按钮或者链接的时候，可以点击操作；\n",
    "4、提交表单：使用submit()函数，元素对象为一个表单的时候，可以提交表单；\n",
    "\n"
   ]
  },
  {
   "cell_type": "markdown",
   "metadata": {},
   "source": [
    "模拟微博的登录："
   ]
  },
  {
   "cell_type": "code",
   "execution_count": null,
   "metadata": {},
   "outputs": [],
   "source": [
    "from selenium import webdriver\n",
    "import time\n",
    "browser = webdriver.Chrome()\n",
    "# 登录微博\n",
    "def weibo_login(username, password):\n",
    "     # 打开微博登录页\n",
    "     browser.get('https://passport.weibo.cn/signin/login')\n",
    "     browser.implicitly_wait(5)\n",
    "     time.sleep(1)\n",
    "     # 填写登录信息：用户名、密码\n",
    "     browser.find_element_by_id(\"loginName\").send_keys(username)\n",
    "     browser.find_element_by_id(\"loginPassword\").send_keys(password)\n",
    "     time.sleep(1)\n",
    "     # 点击登录\n",
    "     browser.find_element_by_id(\"loginAction\").click()\n",
    "     time.sleep(1)\n",
    "# 设置用户名、密码\n",
    "username = 'XXXX'\n",
    "password = \"XXXX\"\n",
    "weibo_login(username, password)\n"
   ]
  },
  {
   "cell_type": "markdown",
   "metadata": {},
   "source": [
    "模拟微博操作：加关注，写评论，发微博"
   ]
  },
  {
   "cell_type": "code",
   "execution_count": null,
   "metadata": {},
   "outputs": [],
   "source": [
    "# 添加指定的用户：加关注：\n",
    "def add_follow(uid):\n",
    "    browser.get('https://m.weibo.com/u/'+str(uid))\n",
    "    time.sleep(1)\n",
    "    #browser.find_element_by_id(\"follow\").click()\n",
    "    follow_button = browser.find_element_by_xpath('//div[@class=\"m-add-box m-followBtn\"]')\n",
    "    follow_button.click()\n",
    "    time.sleep(1)\n",
    "    # 选择分组\n",
    "    group_button = browser.find_element_by_xpath('//div[@class=\"m-btn m-btn-white m-btn-text-black\"]')\n",
    "    group_button.click()\n",
    "    time.sleep(1)\n",
    "# 每天学点心理学 UID\n",
    "uid = '1890826225' \n",
    "add_follow(uid)\n"
   ]
  },
  {
   "cell_type": "markdown",
   "metadata": {},
   "source": [
    "写评论、发微博："
   ]
  },
  {
   "cell_type": "code",
   "execution_count": null,
   "metadata": {},
   "outputs": [],
   "source": [
    "# 给指定某条微博添加内容\n",
    "def add_comment(weibo_url, content):\n",
    "    browser.get(weibo_url)\n",
    "    browser.implicitly_wait(5)\n",
    "    content_textarea = browser.find_element_by_css_selector(\"textarea.W_input\").clear()\n",
    "    content_textarea = browser.find_element_by_css_selector(\"textarea.W_input\").send_keys(content)\n",
    "    time.sleep(2)\n",
    "    comment_button = browser.find_element_by_css_selector(\".W_btn_a\").click()\n",
    "    time.sleep(1)\n",
    " \n",
    "# 发文字微博\n",
    "def post_weibo(content):\n",
    "    # 跳转到用户的首页\n",
    "    browser.get('https://weibo.com')\n",
    "    browser.implicitly_wait(5)\n",
    "    # 点击右上角的发布按钮\n",
    "    post_button = browser.find_element_by_css_selector(\"[node-type='publish']\").click()\n",
    "    # 在弹出的文本框中输入内容\n",
    "    content_textarea = browser.find_element_by_css_selector(\"textarea.W_input\").send_keys(content)\n",
    "    time.sleep(2)\n",
    "    # 点击发布按钮\n",
    "    post_button = browser.find_element_by_css_selector(\"[node-type='submit']\").click()\n",
    "    time.sleep(1)\n",
    "# 给指定的微博写评论\n",
    "weibo_url = 'https://weibo.com/1890826225/HjjqSahwl'\n",
    "content = 'Gook Luck! 好运已上路！'\n",
    "# 自动发微博\n",
    "content = '每天学点心理学'\n",
    "post_weibo(content)\n"
   ]
  },
  {
   "cell_type": "code",
   "execution_count": null,
   "metadata": {},
   "outputs": [],
   "source": []
  },
  {
   "cell_type": "code",
   "execution_count": null,
   "metadata": {},
   "outputs": [],
   "source": []
  },
  {
   "cell_type": "code",
   "execution_count": null,
   "metadata": {},
   "outputs": [],
   "source": []
  },
  {
   "cell_type": "code",
   "execution_count": null,
   "metadata": {},
   "outputs": [],
   "source": []
  },
  {
   "cell_type": "code",
   "execution_count": null,
   "metadata": {},
   "outputs": [],
   "source": []
  },
  {
   "cell_type": "code",
   "execution_count": null,
   "metadata": {},
   "outputs": [],
   "source": []
  },
  {
   "cell_type": "code",
   "execution_count": null,
   "metadata": {},
   "outputs": [],
   "source": []
  },
  {
   "cell_type": "code",
   "execution_count": null,
   "metadata": {},
   "outputs": [],
   "source": []
  },
  {
   "cell_type": "code",
   "execution_count": null,
   "metadata": {},
   "outputs": [],
   "source": []
  },
  {
   "cell_type": "code",
   "execution_count": null,
   "metadata": {},
   "outputs": [],
   "source": []
  },
  {
   "cell_type": "code",
   "execution_count": null,
   "metadata": {},
   "outputs": [],
   "source": []
  },
  {
   "cell_type": "code",
   "execution_count": null,
   "metadata": {},
   "outputs": [],
   "source": []
  }
 ],
 "metadata": {
  "kernelspec": {
   "display_name": "Python 3",
   "language": "python",
   "name": "python3"
  },
  "language_info": {
   "codemirror_mode": {
    "name": "ipython",
    "version": 3
   },
   "file_extension": ".py",
   "mimetype": "text/x-python",
   "name": "python",
   "nbconvert_exporter": "python",
   "pygments_lexer": "ipython3",
   "version": "3.6.8"
  }
 },
 "nbformat": 4,
 "nbformat_minor": 2
}
