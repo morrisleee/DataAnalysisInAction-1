{
 "cells": [
  {
   "cell_type": "markdown",
   "metadata": {},
   "source": [
    "# 32、PageRank算法之谷歌搜索"
   ]
  },
  {
   "cell_type": "markdown",
   "metadata": {},
   "source": [
    "互联网不断发展，搜索引擎已经非常好用，基本上输入关键字，都能够找到匹配的内容，质量还不错。但是在1998年之前，搜索引擎的体验并不好，早期的搜索引擎会遇到两类的问题：\n",
    "\n",
    "- 1、返回的结果质量不高：搜索结果不考虑网页的质量，而是通过实践顺序进行检索；\n",
    "- 2、容易被别人钻空子：搜索引擎是基于检索词进行检索的，页面中检索词出现的频率越高，匹配的速度就越高，这样就会出现网页作弊的情况。有些网页为了增加搜索引擎的排名，故意增加某个检索词的频率。\n",
    "\n",
    "基于这些缺陷，当时的Google的创始人拉里佩奇提出了PageRank算法，目的就是要找到优质的网页，这样Google的排序结果不仅能够找到用户自己想要的内容，而且还会从众多的网页中筛选出权重高的呈现给用户。\n",
    "\n",
    "Google的两位创始人都是Stanford大学的博士生，他们提出的PageRank算法受到了论文影响力因子的评价启发。当一篇论文被引用的次数越多，证明这篇论文的影响力越大。正是这个想法解决了当时的网页的搜索质量不高的问题。\n"
   ]
  },
  {
   "cell_type": "markdown",
   "metadata": {},
   "source": [
    "## PageRank的简化模型"
   ]
  },
  {
   "cell_type": "markdown",
   "metadata": {},
   "source": [
    "我们先来看下PageRank是如何计算的\n",
    "\n",
    "假设一共有4个网页A、B、C、D。他们之间的连接信息如下图所示：\n",
    "![](PageRank简化模型.png)\n",
    "\n",
    "这里有两个概念需要理解一下：\n",
    "- 出链指的是链接出去的链接\n",
    "- 入链指的是链接进来的链接\n",
    "- 比如图中A有2个入链，3个出链。\n",
    "\n",
    "简单来说，一个网页的影响力 = 所有入链集合的页面的加权影响力之和，使用公式表示为：\n",
    "![](PageRank计算公式.png)\n",
    "\n",
    "u为待评估的页面，Bu为页面u的入链集合。针对入链集合中的任意页面v，它能给u带来的影响力是其自身的影响力PR(v)除以v页面的出链数量，**即页面v把影响力PR(v)平均分配给了它的出链**，这样统计所有的能给u带来连接的页面v，得到的总和就是网页u的影响力，即为PR(u)。\n",
    "\n",
    "所以你能看到，出链会给被链接的页面赋予影响力，当我们统计了一个网页连出去的数量，也就是统计了这个网页的跳转概率。\n",
    "\n",
    "在这个例子中，我们能够看到A有三个出链分别连接到了B、C、D上。那么当用户访问A的时候，就有跳转到B、C、D的可能性，跳转的概率为1/3。\n",
    "\n",
    "B有两个出链，链接到了A和D上，跳转的概率为1/2.\n",
    "\n",
    "这样，我们就可以得到A、B、C、D这四个网页的转移矩阵M:\n",
    "![](PageRank计算公式1.png)\n",
    "\n",
    "我们假设A、B、C、D四个页面的初始影响力都是相同的，即\n",
    "![](pageRank计算公式2.png)\n",
    "\n",
    "当进行第一次转移之后，各个页面的影响力w1变为：\n",
    "![](PageRank计算公式3.png)\n",
    "\n",
    "然后我们再以转移矩阵乘以w1得到w2结果，直到第n次迭代之后wn影响力不再发生变化，可以收敛到（0.3333,0.2222,0.2222,0.2222），也就是对应着A、B、C、D这四个页面最终的平衡状态下的影响力。\n",
    "\n",
    "你能看出A页面相对于其他的页面来说的权重更大，也就是说PR值更高。而B、C、D页面的PR值相等。\n",
    "\n",
    "至此我们模拟出了一个简化的PageRank的计算过程，实际情况会比这个更加复杂，可能会面临两个问题：\n",
    "\n",
    "1、等级泄露（Rankleak）：如果一个网页没有出链，就像一个黑洞一样，吸收了其他网页的影响力而不释放，最终会导致其他的网页的PR值为0.\n",
    "\n",
    "![](PageRank简化模型1.png)\n",
    "\n",
    "2、等级沉没（Rank Sink）：如果一个网页只有出链，没有入链（如下图），计算的过程迭代下来，会导致这个网页的PR值为0（也就是不存在公式中的V）。\n",
    "![](PageRank简化模型2.png)\n",
    "\n",
    "针对等级泄露和等级沉没的情况，我们需要灵活处理。\n",
    "\n",
    "对应文章中的例子，等级泄露的转移矩阵：\n",
    "```\n",
    "M=[0 0 0 1/2] \n",
    "     [1 0 0 0 ]\n",
    "     [0 0 0 1/2]\n",
    "     [0 1 0 0 ]\n",
    "等级沉没的转移矩阵\n",
    "M=[0 0 1/2 1] \n",
    "     [1 0 0 0 ]\n",
    "     [0 0 0 0]\n",
    "     [0 1 1/2 0 ]\n",
    "```\n",
    "\n",
    "比如针对等级泄露的情况，我们可以把没有出链的结点，先从图中去掉，等计算完成所有的结点的PR值之后，再加上该节点进行计算。不过这种方法会导致新的等级泄露结点的产生，所以工作量还是很大的。\n",
    "\n",
    "有没有一种方法，可以同时解决等级泄露和等级沉没这两个问题呢？\n"
   ]
  },
  {
   "cell_type": "markdown",
   "metadata": {},
   "source": [
    "## PageRank的随机浏览模型"
   ]
  },
  {
   "cell_type": "markdown",
   "metadata": {},
   "source": [
    "为了解决简化模型中存在的等级泄露和等级沉没的问题，拉里佩奇提出PageRank的随机浏览模型。他假设了这样的一个场景：用户并不都是按照跳转连接的方式来上网的，还有一种可能就是不论当前的处于哪个页面，都有概率访问到其他的任意页面，比如说用户就是要直接输入网址访问其他页面，虽然这个概率较小。\n",
    "\n",
    "所以他定义了阻尼因子d，这个因子代表用户按照跳转连接来上网的概率，通常可以取一个固定值0.85，而1-d=0.15则代表了用户不是通过跳转连接的方式来访问网页的，比如直接输入网址。\n",
    "![](PageRank计算公式4.png)\n",
    "\n",
    "其中N代表网页总数，这样我们又可以重新迭代网页的权重计算了，因为加入了阻尼因子d，一定程度上解决了等级泄露和等级沉没的问题。\n",
    "\n",
    "通过数学定理也是可以证明的，最终PageRank随机浏览模型是可以收敛的，也就是可以得到一个稳定的正常的PR值。\n",
    "\n"
   ]
  },
  {
   "cell_type": "markdown",
   "metadata": {},
   "source": [
    "## PageRank 在社交影响力评估中的应用"
   ]
  },
  {
   "cell_type": "markdown",
   "metadata": {},
   "source": [
    "网页之间会形成一个网络，是我们的互联网，论文之间也存在着相互引用的关系，可以说我们所处的环境就是各种网络的集合。\n",
    "\n",
    "只要是有网络的地方，就存在出链和入链，就会有PR权重的计算，也就是可以运行用我们今天讲的PageRank算法。\n",
    "\n",
    "我们可以把PageRank算法延展到社交网络领域中。比如在微博上，如果我们想要计算某个人的影响力，该怎么办呢？\n",
    "\n",
    "一个人的微博粉丝数量并不一定等于它的实际影响力。如果按照PageRank算法，还需要看这些粉丝的质量是怎样的。如果有很多的明星或者是大V关注，那么这个人的影响力一定会很高。如果粉丝是tongue购买僵尸粉得来的，那么即使粉丝数量再多，影响力也不会很高。\n",
    "\n",
    "同样在工作场景中，比如陌陌这个社交软件，它计算的就是个人在职场的影响力。如果你的工作关系是李开复、江南春这样的名人的话，职场的影响力一定会很高。反之，如果你是个学生，在职场上被连入的关系比较少，职场的影响力就会很低。\n",
    "\n",
    "同样，日过你要看一个公司的经营能力，也可以看这家公司都和哪些公司有合作。如果它合作的都是世界的500强，那么这个公司在行内一定是个领导者。如果这些公司的客户都是小客户，及时数量再多，业内的影响力也一定不大。\n",
    "\n",
    "除非像淘宝一样，有海量的中小客户，最后大客户也会找上门来寻求合作。所以权重高的结点，往往会有一些权重同样很高的结点在进行合作。"
   ]
  },
  {
   "cell_type": "markdown",
   "metadata": {},
   "source": [
    "## PageRank给我们带来的启发"
   ]
  },
  {
   "cell_type": "markdown",
   "metadata": {},
   "source": [
    "PageRank可以说是Google搜索引擎最重要的技术之一，在1998年帮助Google获得了搜索引擎的领先地位，现在PageRank已经比原来复杂了很多，但是它的思想依然能够给我们很多启发。\n",
    "\n",
    "比如，如果你想要自己的媒体影响力有所提高，就尽量混在大V圈子中；如果先要找到高职位的工作，就尽量结识公司的高层，或者认识更多的猎头，因为猎头和很多的高职位的人员都有连接关系。\n",
    "\n",
    "同样，PageRank也可以帮助我们识别连接农场。连接农场指的是网页为了连接而连接，填充了一些没有用的内容。这些网页相互连接或者指向了某一个网页，从而想要得到更高的权重（2345浏览器，搜狗浏览器等导航页，友情链接）"
   ]
  },
  {
   "cell_type": "markdown",
   "metadata": {},
   "source": [
    "## 总结"
   ]
  },
  {
   "cell_type": "markdown",
   "metadata": {},
   "source": [
    "1、对于PageRank的算法原理，我们需要手动模拟一下PageRank的过程。针对简化模型中存在的等级泄露和等级沉没的这两个问题，PageRank的随机浏览模型引入了阻尼因子d来解决。\n",
    "\n",
    "2、PageRank有很多的很广的应用领域，在许多的网络结构中都有应用，比如计算一个人的微博影响力等等。它也告诉我们，在社交网络中，连接的质量非常重要。\n",
    "\n",
    "3、PageRank\n",
    "- 早期的搜索引擎问题\n",
    "    - Step1 选取K个点作为初始的类的中心点\n",
    "    - Step2 将每个点分配到最近的类中心点，然后重新计算每个类的中心点\n",
    "    - Step3 重复Step2，直到类不再发生变化，或者达到最大的迭代次数为止。\n",
    "- PageRank简化模型\n",
    "    - 概念：一个网页u的影响力=所有的入链集合的页面的加权影响力之和\n",
    "    - 公式：\n",
    "    - 存在问题\n",
    "        - Rank Leak（等级泄露）：网页没有出链，最终所有的网页的PR值都为0\n",
    "        - Rank Sink（等级沉没）：网页没有入链，只有出链，最终该网页的PR值为0\n",
    "- PageRank随机浏览模型\n",
    "    - 概念：不论当前处于哪个页面，都有概率访问到其他的任意的页面\n",
    "    - 阻尼因子：d，用户按照跳转链接来上网的概率，通常可以取到0.85\n",
    "    - 公式：\n",
    "- 社交影响力评估\n",
    "    - 微博影响力计算\n",
    "    - 职场影响力计算\n",
    "    - 企业经营能力估计\n",
    "    - 启发：链接质量很重要，数量大但是质量低的spam的概率高\n",
    "\n",
    "![](PageRank总结.png)"
   ]
  },
  {
   "cell_type": "markdown",
   "metadata": {},
   "source": [
    "## 评论"
   ]
  },
  {
   "cell_type": "markdown",
   "metadata": {},
   "source": [
    "- 有人的地方，就有入世和出世\n",
    "- 有网络和地方，就有入链和出链\n",
    "\n",
    "- 入世的人，链接的大牛越多，越有影响力，\n",
    "- 对网站而言，链接出去的网页越多，说明网站影响力越大，但是越多链接进来你这里的网页，也直接影响到网站的价值。\n",
    "\n",
    "- 出链太多，如同出世一样，耗散内力，排名等级越来越低，最终江湖再见。\n",
    "- 入链太多，就可能成为流量黑洞，如同涉世太深的人一样走火入魔。\n",
    "\n",
    "- 谷歌创始人拉里佩奇则力图破解等级泄露和等级沉没困境，创造了随机浏览模型。"
   ]
  },
  {
   "cell_type": "code",
   "execution_count": 5,
   "metadata": {},
   "outputs": [
    {
     "name": "stdout",
     "output_type": "stream",
     "text": [
      "[1.45519152e-11 2.91038305e-11 1.45519152e-11 2.91038305e-11]\n"
     ]
    }
   ],
   "source": [
    "# 等级泄露模拟计算\n",
    "'''\n",
    "等级泄露的矩阵，这里设置的是：\n",
    "M=[0 0 0 1/2] \n",
    "     [1 0 0 0 ]\n",
    "     [0 0 0 1/2]\n",
    "     [0 1 0 0 ]\n",
    "然后看下你迭代的次数。参考代码：\n",
    "'''\n",
    "import numpy as np\n",
    "a_leak = np.array([[0, 0, 0, 1/2], \n",
    "                    [1, 0, 0, 0],\n",
    "                    [0, 0, 0, 1/2],\n",
    "                    [0, 1, 0, 0]])\n",
    "b = np.array([1/4, 1/4, 1/4, 1/4])\n",
    "w = b\n",
    "# print(a_leak)\n",
    "for i in range(100):\n",
    "    w = np.dot(a_leak, w)\n",
    "print(w) # 最后的迭代的值很小了，到一定的范围，就可以看做是0。"
   ]
  },
  {
   "cell_type": "code",
   "execution_count": null,
   "metadata": {},
   "outputs": [],
   "source": []
  },
  {
   "cell_type": "code",
   "execution_count": null,
   "metadata": {},
   "outputs": [],
   "source": []
  },
  {
   "cell_type": "code",
   "execution_count": null,
   "metadata": {},
   "outputs": [],
   "source": []
  },
  {
   "cell_type": "code",
   "execution_count": null,
   "metadata": {},
   "outputs": [],
   "source": []
  },
  {
   "cell_type": "code",
   "execution_count": null,
   "metadata": {},
   "outputs": [],
   "source": []
  },
  {
   "cell_type": "code",
   "execution_count": null,
   "metadata": {},
   "outputs": [],
   "source": []
  },
  {
   "cell_type": "code",
   "execution_count": null,
   "metadata": {},
   "outputs": [],
   "source": []
  },
  {
   "cell_type": "code",
   "execution_count": null,
   "metadata": {},
   "outputs": [],
   "source": []
  },
  {
   "cell_type": "code",
   "execution_count": null,
   "metadata": {},
   "outputs": [],
   "source": []
  },
  {
   "cell_type": "code",
   "execution_count": null,
   "metadata": {},
   "outputs": [],
   "source": []
  },
  {
   "cell_type": "code",
   "execution_count": null,
   "metadata": {},
   "outputs": [],
   "source": []
  },
  {
   "cell_type": "code",
   "execution_count": null,
   "metadata": {},
   "outputs": [],
   "source": []
  },
  {
   "cell_type": "code",
   "execution_count": null,
   "metadata": {},
   "outputs": [],
   "source": []
  },
  {
   "cell_type": "code",
   "execution_count": null,
   "metadata": {},
   "outputs": [],
   "source": []
  },
  {
   "cell_type": "code",
   "execution_count": null,
   "metadata": {},
   "outputs": [],
   "source": []
  },
  {
   "cell_type": "code",
   "execution_count": null,
   "metadata": {},
   "outputs": [],
   "source": []
  },
  {
   "cell_type": "code",
   "execution_count": null,
   "metadata": {},
   "outputs": [],
   "source": []
  },
  {
   "cell_type": "code",
   "execution_count": null,
   "metadata": {},
   "outputs": [],
   "source": []
  },
  {
   "cell_type": "code",
   "execution_count": null,
   "metadata": {},
   "outputs": [],
   "source": []
  },
  {
   "cell_type": "code",
   "execution_count": null,
   "metadata": {},
   "outputs": [],
   "source": []
  },
  {
   "cell_type": "code",
   "execution_count": null,
   "metadata": {},
   "outputs": [],
   "source": []
  },
  {
   "cell_type": "code",
   "execution_count": null,
   "metadata": {},
   "outputs": [],
   "source": []
  },
  {
   "cell_type": "code",
   "execution_count": null,
   "metadata": {},
   "outputs": [],
   "source": []
  },
  {
   "cell_type": "code",
   "execution_count": null,
   "metadata": {},
   "outputs": [],
   "source": []
  },
  {
   "cell_type": "code",
   "execution_count": null,
   "metadata": {},
   "outputs": [],
   "source": []
  },
  {
   "cell_type": "code",
   "execution_count": null,
   "metadata": {},
   "outputs": [],
   "source": []
  },
  {
   "cell_type": "code",
   "execution_count": null,
   "metadata": {},
   "outputs": [],
   "source": []
  },
  {
   "cell_type": "code",
   "execution_count": null,
   "metadata": {},
   "outputs": [],
   "source": []
  },
  {
   "cell_type": "code",
   "execution_count": null,
   "metadata": {},
   "outputs": [],
   "source": []
  },
  {
   "cell_type": "code",
   "execution_count": null,
   "metadata": {},
   "outputs": [],
   "source": []
  },
  {
   "cell_type": "code",
   "execution_count": null,
   "metadata": {},
   "outputs": [],
   "source": []
  },
  {
   "cell_type": "code",
   "execution_count": null,
   "metadata": {},
   "outputs": [],
   "source": []
  },
  {
   "cell_type": "code",
   "execution_count": null,
   "metadata": {},
   "outputs": [],
   "source": []
  },
  {
   "cell_type": "code",
   "execution_count": null,
   "metadata": {},
   "outputs": [],
   "source": []
  },
  {
   "cell_type": "code",
   "execution_count": null,
   "metadata": {},
   "outputs": [],
   "source": []
  },
  {
   "cell_type": "code",
   "execution_count": null,
   "metadata": {},
   "outputs": [],
   "source": []
  },
  {
   "cell_type": "code",
   "execution_count": null,
   "metadata": {},
   "outputs": [],
   "source": []
  },
  {
   "cell_type": "code",
   "execution_count": null,
   "metadata": {},
   "outputs": [],
   "source": []
  },
  {
   "cell_type": "code",
   "execution_count": null,
   "metadata": {},
   "outputs": [],
   "source": []
  },
  {
   "cell_type": "code",
   "execution_count": null,
   "metadata": {},
   "outputs": [],
   "source": []
  },
  {
   "cell_type": "code",
   "execution_count": null,
   "metadata": {},
   "outputs": [],
   "source": []
  },
  {
   "cell_type": "code",
   "execution_count": null,
   "metadata": {},
   "outputs": [],
   "source": []
  },
  {
   "cell_type": "code",
   "execution_count": null,
   "metadata": {},
   "outputs": [],
   "source": []
  },
  {
   "cell_type": "code",
   "execution_count": null,
   "metadata": {},
   "outputs": [],
   "source": []
  },
  {
   "cell_type": "code",
   "execution_count": null,
   "metadata": {},
   "outputs": [],
   "source": []
  },
  {
   "cell_type": "code",
   "execution_count": null,
   "metadata": {},
   "outputs": [],
   "source": []
  },
  {
   "cell_type": "code",
   "execution_count": null,
   "metadata": {},
   "outputs": [],
   "source": []
  },
  {
   "cell_type": "code",
   "execution_count": null,
   "metadata": {},
   "outputs": [],
   "source": []
  },
  {
   "cell_type": "code",
   "execution_count": null,
   "metadata": {},
   "outputs": [],
   "source": []
  },
  {
   "cell_type": "code",
   "execution_count": null,
   "metadata": {},
   "outputs": [],
   "source": []
  },
  {
   "cell_type": "code",
   "execution_count": null,
   "metadata": {},
   "outputs": [],
   "source": []
  },
  {
   "cell_type": "code",
   "execution_count": null,
   "metadata": {},
   "outputs": [],
   "source": []
  },
  {
   "cell_type": "code",
   "execution_count": null,
   "metadata": {},
   "outputs": [],
   "source": []
  },
  {
   "cell_type": "code",
   "execution_count": null,
   "metadata": {},
   "outputs": [],
   "source": []
  },
  {
   "cell_type": "code",
   "execution_count": null,
   "metadata": {},
   "outputs": [],
   "source": []
  },
  {
   "cell_type": "code",
   "execution_count": null,
   "metadata": {},
   "outputs": [],
   "source": []
  },
  {
   "cell_type": "code",
   "execution_count": null,
   "metadata": {},
   "outputs": [],
   "source": []
  },
  {
   "cell_type": "code",
   "execution_count": null,
   "metadata": {},
   "outputs": [],
   "source": []
  },
  {
   "cell_type": "code",
   "execution_count": null,
   "metadata": {},
   "outputs": [],
   "source": []
  },
  {
   "cell_type": "code",
   "execution_count": null,
   "metadata": {},
   "outputs": [],
   "source": []
  },
  {
   "cell_type": "code",
   "execution_count": null,
   "metadata": {},
   "outputs": [],
   "source": []
  },
  {
   "cell_type": "code",
   "execution_count": null,
   "metadata": {},
   "outputs": [],
   "source": []
  },
  {
   "cell_type": "code",
   "execution_count": null,
   "metadata": {},
   "outputs": [],
   "source": []
  },
  {
   "cell_type": "code",
   "execution_count": null,
   "metadata": {},
   "outputs": [],
   "source": []
  },
  {
   "cell_type": "code",
   "execution_count": null,
   "metadata": {},
   "outputs": [],
   "source": []
  },
  {
   "cell_type": "code",
   "execution_count": null,
   "metadata": {},
   "outputs": [],
   "source": []
  },
  {
   "cell_type": "code",
   "execution_count": null,
   "metadata": {},
   "outputs": [],
   "source": []
  },
  {
   "cell_type": "code",
   "execution_count": null,
   "metadata": {},
   "outputs": [],
   "source": []
  },
  {
   "cell_type": "code",
   "execution_count": null,
   "metadata": {},
   "outputs": [],
   "source": []
  },
  {
   "cell_type": "code",
   "execution_count": null,
   "metadata": {},
   "outputs": [],
   "source": []
  },
  {
   "cell_type": "code",
   "execution_count": null,
   "metadata": {},
   "outputs": [],
   "source": []
  },
  {
   "cell_type": "code",
   "execution_count": null,
   "metadata": {},
   "outputs": [],
   "source": []
  },
  {
   "cell_type": "code",
   "execution_count": null,
   "metadata": {},
   "outputs": [],
   "source": []
  },
  {
   "cell_type": "code",
   "execution_count": null,
   "metadata": {},
   "outputs": [],
   "source": []
  },
  {
   "cell_type": "code",
   "execution_count": null,
   "metadata": {},
   "outputs": [],
   "source": []
  },
  {
   "cell_type": "code",
   "execution_count": null,
   "metadata": {},
   "outputs": [],
   "source": []
  },
  {
   "cell_type": "code",
   "execution_count": null,
   "metadata": {},
   "outputs": [],
   "source": []
  },
  {
   "cell_type": "code",
   "execution_count": null,
   "metadata": {},
   "outputs": [],
   "source": []
  },
  {
   "cell_type": "code",
   "execution_count": null,
   "metadata": {},
   "outputs": [],
   "source": []
  },
  {
   "cell_type": "code",
   "execution_count": null,
   "metadata": {},
   "outputs": [],
   "source": []
  },
  {
   "cell_type": "code",
   "execution_count": null,
   "metadata": {},
   "outputs": [],
   "source": []
  },
  {
   "cell_type": "code",
   "execution_count": null,
   "metadata": {},
   "outputs": [],
   "source": []
  },
  {
   "cell_type": "code",
   "execution_count": null,
   "metadata": {},
   "outputs": [],
   "source": []
  },
  {
   "cell_type": "code",
   "execution_count": null,
   "metadata": {},
   "outputs": [],
   "source": []
  },
  {
   "cell_type": "code",
   "execution_count": null,
   "metadata": {},
   "outputs": [],
   "source": []
  },
  {
   "cell_type": "code",
   "execution_count": null,
   "metadata": {},
   "outputs": [],
   "source": []
  },
  {
   "cell_type": "code",
   "execution_count": null,
   "metadata": {},
   "outputs": [],
   "source": []
  }
 ],
 "metadata": {
  "kernelspec": {
   "display_name": "Python 3",
   "language": "python",
   "name": "python3"
  },
  "language_info": {
   "codemirror_mode": {
    "name": "ipython",
    "version": 3
   },
   "file_extension": ".py",
   "mimetype": "text/x-python",
   "name": "python",
   "nbconvert_exporter": "python",
   "pygments_lexer": "ipython3",
   "version": "3.6.7"
  }
 },
 "nbformat": 4,
 "nbformat_minor": 2
}
