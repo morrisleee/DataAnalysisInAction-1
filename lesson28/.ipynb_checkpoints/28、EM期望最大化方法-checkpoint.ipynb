{
 "cells": [
  {
   "cell_type": "markdown",
   "metadata": {},
   "source": [
    "# 28、EM聚类：如何将一份菜等分给两个人？"
   ]
  },
  {
   "cell_type": "markdown",
   "metadata": {},
   "source": [
    "EM聚类，其英文名称为Exception Maximization，所以EM算法也叫做最大期望算法。\n",
    "\n",
    "举例一个简单的场景：假设你炒了一盘菜，想要将它平均分到两个碟子里面，如何划分？\n",
    "\n",
    "很少有人用称对菜进行称重，再计算一般的分量进行平分。大部分人的方法是先分一部分得到一个碟子A里面，然后再把剩余的分到碟子B中，再来观察碟子A和B之间的才是否一样多，那个多就均匀一些到少的那个碟子里面。然后再观察A和B之间的菜是否是一样多..整个过程一直重复下去，知道分量不在发生变化为止。\n",
    "\n",
    "我们从上面的步骤中看到三个主要的步骤：初始化参数、观察预期、重新估计。首先是先给每个碟子初始化一些菜量，然后再观察预期，这两个步骤实际上是期望步骤（Expection）。如果结果存在偏差就需要重新估计参数，这个就是最大化步骤（Maximization）。这两个步骤加起来就是EM算法的过程。\n",
    "\n",
    "![](EM算法过程.jpg)"
   ]
  },
  {
   "cell_type": "markdown",
   "metadata": {},
   "source": [
    "## EM 算法的工作原理"
   ]
  },
  {
   "cell_type": "markdown",
   "metadata": {},
   "source": [
    "说到EM算法，我们先来看一个概念“最大似然”，英文是Maximun Likelihood, Likelihood代表的是可能性，所以最大似然也就是最大可能性的意思。\n",
    "\n",
    "什么是最大似然？例如有一男一女两个同学，现在需要对他们两个进行身高的比较，谁会更高？根据经验，相同年龄下的男性的平均身高比女性的高一些，所以男同学高的可能性会很大。这里运用的就是最大似然的概念。\n",
    "\n",
    "最大似然估计是什么？它是指就是一件事已经发生了，然后反推更有可能是什么因素造成的。还是用一男一女身高为例，假设有一个人比另外一个人高，反推它可能是男性。最大似然估计就是一种通过已知结果，估计参数的方法。\n",
    "\n",
    "那么EM算法是什么？它和最大似然估计又有什么关系？EM算法是一种求解最大似然估计的方法，通过观测样本，来找到样本的参数模型。\n",
    "\n",
    "再看一下分菜的例子，实际上最终我们想要的是碟子A和碟子B中的菜的分量，我么可以理解为想要得到的**参数模型**。然后我们通过EM算法中的E步骤来进行观察，然后通过M步来进行调整A和B的参数，最后让碟子A和碟子B的参数不再发生变化为止。\n",
    "\n",
    "实际上我们遇到的问题比分菜更加复杂。例如投掷硬币的例子。假设我们有A和B两枚硬币，然后做5组实验，每组实验投掷10次，然后统计出现的正面的次数，实验如下：\n",
    "\n",
    "|实验|正面次数|\n",
    "|--|--|\n",
    "|1|5|\n",
    "|2|7|\n",
    "|3|8|\n",
    "|4|9|\n",
    "|5|4|\n",
    "\n",
    "投掷硬币这个过程中存在隐含的数据，即我们事先并不知道每次投掷的硬币是A还是B。假设我们知道这个隐含的数据，并把它完善，得到结果如下：\n",
    "\n",
    "|实验|投掷的硬币|正面次数|\n",
    "|--|--|--|\n",
    "|1|A|5|\n",
    "|2|B|7|\n",
    "|3|B|8|\n",
    "|4|B|9|\n",
    "|5|A|4|\n",
    "\n",
    "我们现在想要求得硬币A和B出现正面次数的概率，可以直接得到：\n",
    "\n",
    "$$Θ_A = \\frac{5+4}{10+10} = 0.45$$, $$Θ_B = \\frac{7+8+9}{10+10+10}=0.8$$"
   ]
  },
  {
   "cell_type": "markdown",
   "metadata": {},
   "source": [
    "而实际情况是我们不知道每次投掷的硬币是A还是B，那么如何求得硬币A和硬币B出现正面的概率？\n",
    "\n",
    "这里就需要采用EM算法的思想。\n",
    "\n",
    "1、初始化参数。我们假设硬币A和B的正面概率（随机指定）是Θ_A = 0.5 和 Θ_B = 0.9\n",
    "\n",
    "2、计算期望值。假设实验1投掷的是硬币A，那么正面次数为5的概率为：\n",
    "$$C^5_{10}*0.5^5*0.5^5 = 0.24609375$$\n",
    "\n",
    "公式里面的C(10,5)代表的是10个里面取到5个的组合方式，也就是排列组合公式，0.5的5次方乘以0.5的5次方代表的是其中的一次为五次正面，五次反面的概率，然后再乘以C(10,5)等于正面次数为5的概率。\n",
    "\n",
    "假设实验1是投掷的硬币B，那么正面次数为5的概率为：\n",
    "$$C^5_{10}*0.9^5*0.1^5 = 0.0014880348$$\n",
    "\n",
    "所以实验1更有可能投掷的是硬币A。\n",
    "\n",
    "然后我么对实验2~5重复上面的计算过程，可以推理出来硬币顺序应该是{A，A，B，B，A}。\n",
    "\n",
    "这个过程实际上就是通过假设的参数来估计位置参数，即“每次投掷是那枚硬币”。\n",
    "\n",
    "3、通过猜测的结果{A，A，B，B，A}来完善初始化的参数Θ𝐴和ΘB。\n",
    "\n",
    "然后一直重复第二步和第三步，直到参数不再发生变化。\n",
    "\n",
    "简单总结上面的步骤，你能看出EM算法中的E步骤就是通过旧的参数来计算隐藏的变量。然后在M步骤中，通过得到的隐藏变量的结果来重新估计参数。直到参数不再发生变化，得到我们想要的结果。\n"
   ]
  },
  {
   "cell_type": "markdown",
   "metadata": {},
   "source": [
    "## EM聚类的工作原理"
   ]
  },
  {
   "cell_type": "markdown",
   "metadata": {},
   "source": [
    "由上面可以知道EM算法最直接的应用就是求参数估计。如果我们把潜在的类别当做隐藏的变量，样本看做观察值，就可以把聚类问题转化为参数的估计问题。这也就是EM聚类的原理。\n",
    "\n",
    "相比于K-Means算法，EM聚类更加灵活，比如下面的这种情况，K-Means会得到下面的聚类结果\n",
    "![](em聚类1.jpg)\n",
    "\n",
    "因为K-Means是通过距离来区分样本之间的差别的，且每个样本在计算的时候只能属于一个分类，称之为是硬聚类算法。而EM聚类在求解的过程中，实际上每个样本都有一定的概率和每个聚类相关，叫做软聚类算法。\n",
    "\n",
    "你可以把EM算法理解成为一个框架，在这个框架中可以使用不同的模型来用EM进行求解。常用的EM聚类有GMM高斯混合模型和HMM隐马科夫模型。GMM（高斯混合模型）聚类就是EM聚类的一种。比如上面的这两个图，可以采用GMM来进行聚类。\n",
    "\n",
    "和K-Means一样，我们需要实现知道或者给定聚类的个数，但是不知道每个类别分别属于哪一类。通常，我们可以假设样本是符合高斯分布的（也就是正态分布）。每个高斯分布都属于这个模型的组成部分（component），要分成K类就相当于是K个组成的部分。这样我们可以先初始化每个组成部分的高斯分布参数，然后再来看每个样本是属于哪个组成部分。这也就是**E步骤**。\n",
    "\n",
    "再通过得到的这些隐含变量的结果，反过来求每个组成部分高斯分布的参数，即**M步骤**。**反复EM步骤**，直到每个组成部分的高斯分布参数不变为止。\n",
    "\n",
    "这样也就相当于将样本按照GMM模型进行了EM聚类。\n",
    "![](em聚类2.jpg)"
   ]
  },
  {
   "cell_type": "markdown",
   "metadata": {},
   "source": [
    "## 总结"
   ]
  },
  {
   "cell_type": "markdown",
   "metadata": {},
   "source": [
    "1、EM算法相当于一个框架，你可以采用不同的模型来进行聚类，比如GMM（高斯混合模型），或者HMM（隐马科夫模型）来进行聚类。GMM是通过概率密度来进行的聚类，聚成的类符合高斯分布（正态分布）。而HMM用到了马科夫过程，在这个过程中，我们通过状态转移矩阵来计算状态转移的概率。HMM在自然语言处理和语音识别领域中有广泛的应用。\n",
    "\n",
    "2、在EM这个框架中，E步骤相当于是通过初始化的参数来估计隐含变量。M步骤就是通过隐含变量反推来优化参数。最后通过EM步骤的迭代得到模型参数。\n",
    "\n",
    "3、EM算法是一个不断观察和调整的过程，如分菜的例子。\n",
    "\n",
    "4、通过求硬币的正面概率的例子，我们可以理解到如何通过初始化参数来求得隐含数据的过程，以及再通过求得的隐含数据来优化参数。\n",
    "\n",
    "5、通过上面的GMM图像聚类的例子（上面两图所示），对于K-Means算法解决不了的：发现非凸形状的簇，或者具有各种不同大小或者密度的簇，即很难检测到的“自然的”簇，原因在于其采用的簇的表示以及簇间相似度量不能反映这些自然簇的特征。这个使用EM是可以解决的。在EM框架中，我们将潜在的类别当做隐藏变量，样本看做是观察值，把聚类问题转化成为参数估计问题，最终可以把样本进行分类。\n",
    "\n",
    "6、EM聚类：\n",
    "- EM算法原理\n",
    "    - E步骤\n",
    "        - 初始化参数\n",
    "        - 计算期望\n",
    "    - M步骤\n",
    "        - 重新估计参数\n",
    "- 举例\n",
    "    - 炒菜平均分成两份：理解E和M两个步骤，即不断观察和调整的结果\n",
    "    - 求硬币的正面的概率：理解通过初始化参数，求得隐含数据的过程，再通过隐含数据返回优化参数\n",
    "    - 图像聚类：K-Means解决不了的问题，EM可以解决\n",
    "- EM聚类\n",
    "    - 将聚类问题转化成为参数的估计问题：把潜在类别当做隐藏变量，样本看做观察值\n",
    "    - 把EM算法理解成为一个框架，在这个框架中可以采用不同的模型来用EM进行求解\n",
    "    - GMM聚类：HMM聚类等\n",
    "    \n",
    "![](EM聚类总结.png)"
   ]
  },
  {
   "cell_type": "markdown",
   "metadata": {},
   "source": [
    "## 思考题\n",
    "想起了一个故事，摘叶子\n",
    "- 要找到最大的叶子\n",
    "- 1.先心里大概有一个叶子大小的概念（初始化模型）\n",
    "- 2.在三分之一的的路程上，观察叶子大小，并修改对大小的评估（观察预期，并修改参数）\n",
    "- 3.在三分之二的路程上，验证自己对叶子大小模型的的评估（重复1,2过程）\n",
    "- 4.在最后的路程上，选择最大的叶子（重复1.2，直到参数不再改变）\n",
    "\n",
    "EM和K-Means的相同点和不同点\n",
    "\n",
    "相同点\n",
    "- 1.EM，KMEANS，都是随机生成预期值，然后经过反复调整，获得最佳结果\n",
    "- 2.聚类个数清晰\n",
    "\n",
    "不同点\n",
    "- 1.EM是计算概率，KMeans是计算距离。\n",
    "- 计算概率，概率只要不为0，都有可能即样本是每一个类别都有可能\n",
    "- 计算距离，只有近的的票高，才有可能，即样本只能属于一个类别"
   ]
  },
  {
   "cell_type": "code",
   "execution_count": null,
   "metadata": {},
   "outputs": [],
   "source": []
  },
  {
   "cell_type": "code",
   "execution_count": null,
   "metadata": {},
   "outputs": [],
   "source": []
  },
  {
   "cell_type": "code",
   "execution_count": null,
   "metadata": {},
   "outputs": [],
   "source": []
  },
  {
   "cell_type": "code",
   "execution_count": null,
   "metadata": {},
   "outputs": [],
   "source": []
  },
  {
   "cell_type": "code",
   "execution_count": null,
   "metadata": {},
   "outputs": [],
   "source": []
  },
  {
   "cell_type": "code",
   "execution_count": null,
   "metadata": {},
   "outputs": [],
   "source": []
  },
  {
   "cell_type": "code",
   "execution_count": null,
   "metadata": {},
   "outputs": [],
   "source": []
  },
  {
   "cell_type": "code",
   "execution_count": null,
   "metadata": {},
   "outputs": [],
   "source": []
  },
  {
   "cell_type": "code",
   "execution_count": null,
   "metadata": {},
   "outputs": [],
   "source": []
  },
  {
   "cell_type": "code",
   "execution_count": null,
   "metadata": {},
   "outputs": [],
   "source": []
  },
  {
   "cell_type": "code",
   "execution_count": null,
   "metadata": {},
   "outputs": [],
   "source": []
  },
  {
   "cell_type": "code",
   "execution_count": null,
   "metadata": {},
   "outputs": [],
   "source": []
  },
  {
   "cell_type": "code",
   "execution_count": null,
   "metadata": {},
   "outputs": [],
   "source": []
  },
  {
   "cell_type": "code",
   "execution_count": null,
   "metadata": {},
   "outputs": [],
   "source": []
  },
  {
   "cell_type": "code",
   "execution_count": null,
   "metadata": {},
   "outputs": [],
   "source": []
  },
  {
   "cell_type": "code",
   "execution_count": null,
   "metadata": {},
   "outputs": [],
   "source": []
  },
  {
   "cell_type": "code",
   "execution_count": null,
   "metadata": {},
   "outputs": [],
   "source": []
  },
  {
   "cell_type": "code",
   "execution_count": null,
   "metadata": {},
   "outputs": [],
   "source": []
  },
  {
   "cell_type": "code",
   "execution_count": null,
   "metadata": {},
   "outputs": [],
   "source": []
  },
  {
   "cell_type": "code",
   "execution_count": null,
   "metadata": {},
   "outputs": [],
   "source": []
  },
  {
   "cell_type": "code",
   "execution_count": null,
   "metadata": {},
   "outputs": [],
   "source": []
  },
  {
   "cell_type": "code",
   "execution_count": null,
   "metadata": {},
   "outputs": [],
   "source": []
  },
  {
   "cell_type": "code",
   "execution_count": null,
   "metadata": {},
   "outputs": [],
   "source": []
  },
  {
   "cell_type": "code",
   "execution_count": null,
   "metadata": {},
   "outputs": [],
   "source": []
  },
  {
   "cell_type": "code",
   "execution_count": null,
   "metadata": {},
   "outputs": [],
   "source": []
  },
  {
   "cell_type": "code",
   "execution_count": null,
   "metadata": {},
   "outputs": [],
   "source": []
  },
  {
   "cell_type": "code",
   "execution_count": null,
   "metadata": {},
   "outputs": [],
   "source": []
  },
  {
   "cell_type": "code",
   "execution_count": null,
   "metadata": {},
   "outputs": [],
   "source": []
  },
  {
   "cell_type": "code",
   "execution_count": null,
   "metadata": {},
   "outputs": [],
   "source": []
  },
  {
   "cell_type": "code",
   "execution_count": null,
   "metadata": {},
   "outputs": [],
   "source": []
  },
  {
   "cell_type": "code",
   "execution_count": null,
   "metadata": {},
   "outputs": [],
   "source": []
  },
  {
   "cell_type": "code",
   "execution_count": null,
   "metadata": {},
   "outputs": [],
   "source": []
  },
  {
   "cell_type": "code",
   "execution_count": null,
   "metadata": {},
   "outputs": [],
   "source": []
  },
  {
   "cell_type": "code",
   "execution_count": null,
   "metadata": {},
   "outputs": [],
   "source": []
  },
  {
   "cell_type": "code",
   "execution_count": null,
   "metadata": {},
   "outputs": [],
   "source": []
  },
  {
   "cell_type": "code",
   "execution_count": null,
   "metadata": {},
   "outputs": [],
   "source": []
  },
  {
   "cell_type": "code",
   "execution_count": null,
   "metadata": {},
   "outputs": [],
   "source": []
  },
  {
   "cell_type": "code",
   "execution_count": null,
   "metadata": {},
   "outputs": [],
   "source": []
  },
  {
   "cell_type": "code",
   "execution_count": null,
   "metadata": {},
   "outputs": [],
   "source": []
  },
  {
   "cell_type": "code",
   "execution_count": null,
   "metadata": {},
   "outputs": [],
   "source": []
  },
  {
   "cell_type": "code",
   "execution_count": null,
   "metadata": {},
   "outputs": [],
   "source": []
  },
  {
   "cell_type": "code",
   "execution_count": null,
   "metadata": {},
   "outputs": [],
   "source": []
  },
  {
   "cell_type": "code",
   "execution_count": null,
   "metadata": {},
   "outputs": [],
   "source": []
  },
  {
   "cell_type": "code",
   "execution_count": null,
   "metadata": {},
   "outputs": [],
   "source": []
  },
  {
   "cell_type": "code",
   "execution_count": null,
   "metadata": {},
   "outputs": [],
   "source": []
  },
  {
   "cell_type": "code",
   "execution_count": null,
   "metadata": {},
   "outputs": [],
   "source": []
  },
  {
   "cell_type": "code",
   "execution_count": null,
   "metadata": {},
   "outputs": [],
   "source": []
  },
  {
   "cell_type": "code",
   "execution_count": null,
   "metadata": {},
   "outputs": [],
   "source": []
  },
  {
   "cell_type": "code",
   "execution_count": null,
   "metadata": {},
   "outputs": [],
   "source": []
  },
  {
   "cell_type": "code",
   "execution_count": null,
   "metadata": {},
   "outputs": [],
   "source": []
  },
  {
   "cell_type": "code",
   "execution_count": null,
   "metadata": {},
   "outputs": [],
   "source": []
  },
  {
   "cell_type": "code",
   "execution_count": null,
   "metadata": {},
   "outputs": [],
   "source": []
  },
  {
   "cell_type": "code",
   "execution_count": null,
   "metadata": {},
   "outputs": [],
   "source": []
  },
  {
   "cell_type": "code",
   "execution_count": null,
   "metadata": {},
   "outputs": [],
   "source": []
  },
  {
   "cell_type": "code",
   "execution_count": null,
   "metadata": {},
   "outputs": [],
   "source": []
  },
  {
   "cell_type": "code",
   "execution_count": null,
   "metadata": {},
   "outputs": [],
   "source": []
  },
  {
   "cell_type": "code",
   "execution_count": null,
   "metadata": {},
   "outputs": [],
   "source": []
  },
  {
   "cell_type": "code",
   "execution_count": null,
   "metadata": {},
   "outputs": [],
   "source": []
  },
  {
   "cell_type": "code",
   "execution_count": null,
   "metadata": {},
   "outputs": [],
   "source": []
  },
  {
   "cell_type": "code",
   "execution_count": null,
   "metadata": {},
   "outputs": [],
   "source": []
  },
  {
   "cell_type": "code",
   "execution_count": null,
   "metadata": {},
   "outputs": [],
   "source": []
  },
  {
   "cell_type": "code",
   "execution_count": null,
   "metadata": {},
   "outputs": [],
   "source": []
  },
  {
   "cell_type": "code",
   "execution_count": null,
   "metadata": {},
   "outputs": [],
   "source": []
  },
  {
   "cell_type": "code",
   "execution_count": null,
   "metadata": {},
   "outputs": [],
   "source": []
  },
  {
   "cell_type": "code",
   "execution_count": null,
   "metadata": {},
   "outputs": [],
   "source": []
  },
  {
   "cell_type": "code",
   "execution_count": null,
   "metadata": {},
   "outputs": [],
   "source": []
  },
  {
   "cell_type": "code",
   "execution_count": null,
   "metadata": {},
   "outputs": [],
   "source": []
  },
  {
   "cell_type": "code",
   "execution_count": null,
   "metadata": {},
   "outputs": [],
   "source": []
  },
  {
   "cell_type": "code",
   "execution_count": null,
   "metadata": {},
   "outputs": [],
   "source": []
  },
  {
   "cell_type": "code",
   "execution_count": null,
   "metadata": {},
   "outputs": [],
   "source": []
  },
  {
   "cell_type": "code",
   "execution_count": null,
   "metadata": {},
   "outputs": [],
   "source": []
  },
  {
   "cell_type": "code",
   "execution_count": null,
   "metadata": {},
   "outputs": [],
   "source": []
  },
  {
   "cell_type": "code",
   "execution_count": null,
   "metadata": {},
   "outputs": [],
   "source": []
  },
  {
   "cell_type": "code",
   "execution_count": null,
   "metadata": {},
   "outputs": [],
   "source": []
  }
 ],
 "metadata": {
  "kernelspec": {
   "display_name": "Python 3",
   "language": "python",
   "name": "python3"
  },
  "language_info": {
   "codemirror_mode": {
    "name": "ipython",
    "version": 3
   },
   "file_extension": ".py",
   "mimetype": "text/x-python",
   "name": "python",
   "nbconvert_exporter": "python",
   "pygments_lexer": "ipython3",
   "version": "3.6.7"
  }
 },
 "nbformat": 4,
 "nbformat_minor": 2
}
