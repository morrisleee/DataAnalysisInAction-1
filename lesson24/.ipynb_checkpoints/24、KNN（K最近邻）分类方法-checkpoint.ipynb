{
 "cells": [
  {
   "cell_type": "markdown",
   "metadata": {},
   "source": [
    "# 24、KNN（K最近邻）分类方法"
   ]
  },
  {
   "cell_type": "markdown",
   "metadata": {},
   "source": [
    "KNN的英文名字为K-Nearest Neighbor，应该算是数据挖掘的算法中最简单的一种。\n",
    "\n",
    "- 电影例子引入\n",
    "- 是否打球例子也可以说明"
   ]
  },
  {
   "cell_type": "markdown",
   "metadata": {},
   "source": [
    "## KNN的工作原理"
   ]
  },
  {
   "cell_type": "markdown",
   "metadata": {},
   "source": [
    "整个计算过程分为三步：\n",
    "- 1、计算待分类物体与其他物体之间的距离\n",
    "- 2、统计距离最近的K个邻居\n",
    "- 3、对于K个最近的邻居，他们属于哪个分类最多，待分类物体就属于哪一类。"
   ]
  },
  {
   "cell_type": "markdown",
   "metadata": {},
   "source": [
    "### K值如何选择"
   ]
  },
  {
   "cell_type": "markdown",
   "metadata": {},
   "source": [
    "在KNN的分类过程中K值的选择是很重要的。问题来了，K值选择多少合适？\n",
    "\n",
    "如果K值比较小，就相当于未分类物体与它的邻居非常的近才行。这样会产生一个问题就是，如果邻居是个噪声点，name未分类的物体的分类就会产生误差，这样KNN就会产生过拟合。\n",
    "\n",
    "如果K值比较大，相当于距离过于远的点也会对未知物体的分类产生影响，虽然这种情况的好处是鲁棒性比较强，但是不足也是很明显，会产生欠拟合的情况，也就是没有吧未分类的物体真正分类出来。\n",
    "\n",
    "所以K值应该是个实践出来的值，并不是我们预先指定的。在工程上，一般采用**交叉验证的方式选取K值**。\n",
    "\n",
    "交叉验证的思路就是：把样本中的大部分的样本作为训练集。剩余较小的部分用于预测，来验证分类模型的准确性。所以在KNN的分类方法中，我们一般会把K值选取在较小的范围内，同时在验证集上准确率最高的那一个最终确定作为K值。\n"
   ]
  },
  {
   "cell_type": "markdown",
   "metadata": {},
   "source": [
    "### 距离如何计算"
   ]
  },
  {
   "cell_type": "markdown",
   "metadata": {},
   "source": [
    "在KNN算法中，还有一个重要的计算就是关于距离的度量。两个样本点之间的距离代表了这两个样本之间的相似度。距离越大。差异性就越大；距离越小。相似度就越大。\n",
    "\n",
    "关于距离的计算方式有以下的五种方式：\n",
    "- 1、欧氏距离\n",
    "- 2、马哈顿距离\n",
    "- 3、闵可夫斯基距离；\n",
    "- 4、切比雪夫距离\n",
    "- 5、余弦距离\n",
    "\n",
    "其中前三种的距离是KNN中最常用的距离。\n",
    "\n",
    "欧式距离：是我们最常用的距离公式，也叫欧几里得距离。在二维空间中，两点的距离就是对应坐标之差的平方和的平方根。\n",
    "![](欧氏距离.png)\n",
    "\n",
    "同理，我们也可以求得在两点在n维空间中的距离：\n",
    "![](欧氏距离1.png)\n",
    "\n",
    "曼哈顿距离：在几何空间中用的比较多。例如下图，绿色的直线代表的是两点之间的欧式距离，而红色和黄色的线就是两点之间的曼哈顿距离。所以曼哈顿距离等于两个点在坐标系上的绝对轴距总和：\n",
    "![](曼哈顿距离.png)\n",
    "\n",
    "![](距离关系.jpg)\n",
    "\n",
    "闵可夫斯基距离：它不是一个距离，而是一组距离的定义。对于n维空间中的两个点x(x1,x2,x3,...,xn)和y(y1,y2,...,y3),x和y两点之间的闵可夫斯基距离为：\n",
    "\n",
    "![](闵可夫斯基距离.png)\n",
    "\n",
    "其中P代表空间的维数，当p=1时，就是曼哈顿距离；当p=2时，就是欧氏距离；当p->oo时，就是切比雪夫距离。\n",
    "\n",
    "切比雪夫距离：两个点之间的切比雪夫距离就是这两个点的坐标数值的绝对值的最大值，用数学表示就是：max（|x1-y1|,|x2-y2|）。\n",
    "\n",
    "余弦距离：实际上计算的是两个向量的夹角，是在方向上计算两者之间的差异，对于绝对数值不敏感。在兴趣相关性的比较上，角度关系比距离的绝对值重要，因为余弦距离可以用于衡量用户对内用的区分度。比如我们使用搜索引擎搜索某个关键字，它会给你推荐其他相关的搜索，这些推荐的关键词就是采用余弦距离计算得出的。\n"
   ]
  },
  {
   "cell_type": "markdown",
   "metadata": {},
   "source": [
    "## KD 树"
   ]
  },
  {
   "cell_type": "markdown",
   "metadata": {},
   "source": [
    "由上面可知，KNN的计算过程是大量计算样本点之间的距离。为了减少计算距离的次数，提升KNN的搜索效率，人们提出了KD树（K-Dimensional的缩写）。KD树是对数据点在K维空间中划分的一种数据结构。在KD树的构造中，每个节点都是k维数值点的二叉树。既然是二叉树，就采用二叉树的增删查改操作，这样就大大提升了搜索效率。\n",
    "\n",
    "KD树是一种二叉树的数据结构，他能方便的存储K维空间的数据。"
   ]
  },
  {
   "cell_type": "markdown",
   "metadata": {},
   "source": [
    "## 用KNN做回归"
   ]
  },
  {
   "cell_type": "markdown",
   "metadata": {},
   "source": [
    "KNN不仅能够做分类，还可以做回归。使用KNN就能预测某个值"
   ]
  },
  {
   "cell_type": "markdown",
   "metadata": {},
   "source": [
    "## 总结"
   ]
  },
  {
   "cell_type": "markdown",
   "metadata": {},
   "source": [
    "KNN的几个关键因素\n",
    "- K值的选取：交叉验证的方式得出。\n",
    "- 五种距离定义\n",
    "- KNN的理论成熟，可以用到线性或者非线性的分类问题中，也可以使用KNN做回归分析，通过K个邻居对新的点的属性进行值的预测。\n",
    "- 有个KD树用来做存储\n",
    "- KNN的数据量大时，计算量大，使用的时间和存储空间大；\n",
    "- 如果分类不平衡，分类的样本少，则该分类的准确率就会低很多；\n",
    "- KNN也可以用于作为推荐算法（数据量不大的情况下）;其他的推荐算法有：TD-IDF、协同过滤、Apriori算法\n",
    "\n",
    "\n",
    "KNN：\n",
    "- 原理\n",
    "    - 近朱者赤，近墨者黑\n",
    "    - step1：计算待分类的物体与其他的物体之间的距离\n",
    "    - step2：统计距离最近的K个邻居\n",
    "    - step3：未知物体分类=K个最近的邻居，分类最多的那个类别\n",
    "- K值选择\n",
    "    - K值太小，容易过拟合\n",
    "    - K值太大，容易欠拟合\n",
    "    - 交叉验证的方式选取K值\n",
    "- 距离定义\n",
    "    - 欧式距离\n",
    "    - 曼哈顿距离\n",
    "    - 闵可夫斯基距离\n",
    "    - 切比雪夫距离\n",
    "    - 余弦距离\n",
    "- KD树\n",
    "    - 定义：对数据点在K维度空间中划分的一种数据结构，二叉树结构\n",
    "    - 在sklearn中可以设置KD树\n",
    "- 用KNN做回归\n",
    "    - 对于一个新点，找出K个最近邻居，将他们的属性加权平均赋值给改点。\n"
   ]
  },
  {
   "cell_type": "code",
   "execution_count": null,
   "metadata": {},
   "outputs": [],
   "source": []
  },
  {
   "cell_type": "code",
   "execution_count": null,
   "metadata": {},
   "outputs": [],
   "source": []
  },
  {
   "cell_type": "code",
   "execution_count": null,
   "metadata": {},
   "outputs": [],
   "source": []
  },
  {
   "cell_type": "code",
   "execution_count": null,
   "metadata": {},
   "outputs": [],
   "source": []
  },
  {
   "cell_type": "code",
   "execution_count": null,
   "metadata": {},
   "outputs": [],
   "source": []
  },
  {
   "cell_type": "code",
   "execution_count": null,
   "metadata": {},
   "outputs": [],
   "source": []
  },
  {
   "cell_type": "code",
   "execution_count": null,
   "metadata": {},
   "outputs": [],
   "source": []
  },
  {
   "cell_type": "code",
   "execution_count": null,
   "metadata": {},
   "outputs": [],
   "source": []
  },
  {
   "cell_type": "code",
   "execution_count": null,
   "metadata": {},
   "outputs": [],
   "source": []
  },
  {
   "cell_type": "code",
   "execution_count": null,
   "metadata": {},
   "outputs": [],
   "source": []
  },
  {
   "cell_type": "code",
   "execution_count": null,
   "metadata": {},
   "outputs": [],
   "source": []
  },
  {
   "cell_type": "code",
   "execution_count": null,
   "metadata": {},
   "outputs": [],
   "source": []
  },
  {
   "cell_type": "code",
   "execution_count": null,
   "metadata": {},
   "outputs": [],
   "source": []
  },
  {
   "cell_type": "code",
   "execution_count": null,
   "metadata": {},
   "outputs": [],
   "source": []
  },
  {
   "cell_type": "code",
   "execution_count": null,
   "metadata": {},
   "outputs": [],
   "source": []
  },
  {
   "cell_type": "code",
   "execution_count": null,
   "metadata": {},
   "outputs": [],
   "source": []
  },
  {
   "cell_type": "code",
   "execution_count": null,
   "metadata": {},
   "outputs": [],
   "source": []
  },
  {
   "cell_type": "code",
   "execution_count": null,
   "metadata": {},
   "outputs": [],
   "source": []
  },
  {
   "cell_type": "code",
   "execution_count": null,
   "metadata": {},
   "outputs": [],
   "source": []
  },
  {
   "cell_type": "code",
   "execution_count": null,
   "metadata": {},
   "outputs": [],
   "source": []
  },
  {
   "cell_type": "code",
   "execution_count": null,
   "metadata": {},
   "outputs": [],
   "source": []
  }
 ],
 "metadata": {
  "kernelspec": {
   "display_name": "Python 3",
   "language": "python",
   "name": "python3"
  },
  "language_info": {
   "codemirror_mode": {
    "name": "ipython",
    "version": 3
   },
   "file_extension": ".py",
   "mimetype": "text/x-python",
   "name": "python",
   "nbconvert_exporter": "python",
   "pygments_lexer": "ipython3",
   "version": "3.6.7"
  }
 },
 "nbformat": 4,
 "nbformat_minor": 2
}
