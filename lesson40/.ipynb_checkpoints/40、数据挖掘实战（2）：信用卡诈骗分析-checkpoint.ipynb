{
 "cells": [
  {
   "cell_type": "markdown",
   "metadata": {},
   "source": [
    "# 40、数据挖掘实战：信用卡诈骗分析"
   ]
  },
  {
   "cell_type": "markdown",
   "metadata": {},
   "source": [
    "使用过随机森林以及之前学习过的SVM、决策树和KNN分类器对信用卡违约数据进行了分析，我们再研究一下信用卡诈骗。\n",
    "\n",
    "相对于信用卡的违约的比例，信用卡诈骗的比例更加小，但是危害极大。如何通过以往的交易数据分析出每笔交易是否正常，是否存在盗刷风险是我们这次项目的的目标。\n",
    "\n",
    "通过学习，我们需要掌握以下几个方面：\n",
    "- 1、了解逻辑回归分类，以及如何在sklearn中使用它；\n",
    "- 2、信用卡诈骗属于二分类问题，欺骗交易在所有的交易中心的比例很小，对于这种数据不平衡的情况，到底采用什么样的模型评估标准会更加准确；\n",
    "- 3、完成信用卡欺诈分析的实战项目，并通过数据可视化对数据探索和模型结果估计进一步加强了解。"
   ]
  },
  {
   "cell_type": "markdown",
   "metadata": {},
   "source": [
    "## 构建逻辑回归分类器"
   ]
  },
  {
   "cell_type": "markdown",
   "metadata": {},
   "source": [
    "逻辑回归虽然不在学习的十大经典数据挖掘算法里面，但是也是常用的数据挖掘算法。\n",
    "\n",
    "逻辑回归，也叫做logistic回归。虽然名字中带有“回归”，但是它实际上是分类方法，主要解决的是二分类问题，当然它也可以解决多分类问题，只是二分类更加常见一些。\n",
    "\n",
    "在逻辑回归中使用了Logistic函数，也称作Sigmoid函数。Sigmoid函数是深度学习中经常用到的函数之一，函数的公式为：\n",
    "![](Sigmoid函数公式.png)\n",
    "函数的图像如下：\n",
    "![](Sigmoid函数图像.png)\n",
    "代码实现如下:"
   ]
  },
  {
   "cell_type": "code",
   "execution_count": null,
   "metadata": {},
   "outputs": [],
   "source": [
    "import numpy as np\n",
    "import matplotlib.pyplot as plt\n",
    "def sigmoid(x):\n",
    "    return 1.0/(1+np.exp(-x))\n",
    "\n",
    "# 从-10到10，中间的步长为0.1，的一个列表\n",
    "sigmoid_inputs = np.arange(-10,10,0.1)\n",
    "sigmoid_outputs = sigmoid(sigmoid_inputs)\n",
    "print(\"Sigmoid Function Input :: {}\".format(sigmoid_inputs))\n",
    "print(\"Sigmoid Function Output :: {}\".format(sigmoid_outputs))\n",
    " \n",
    "plt.plot(sigmoid_inputs,sigmoid_outputs)\n",
    "plt.xlabel(\"Sigmoid Inputs\")\n",
    "plt.ylabel(\"Sigmoid Outputs\")\n",
    "plt.show()"
   ]
  },
  {
   "cell_type": "markdown",
   "metadata": {},
   "source": [
    "我们能够看出g(z)的结果在0-1之间，当z越大的时候，g(z)越大，当z趋近于无穷大的时候，g(z)趋近于1。同样当z趋近于无穷小的时候，g(z)趋近于0。同时，函数值以0.5为中心。\n",
    "\n",
    "为什么逻辑回归算法是基于Sigmoid函数实现的呢？我们可以这样理解：我们要实现一个二分类的任务，0即为不发生，1即为发生。我们给定一些历史数据X和y。其中X代表样本的n个特征，y代表正例和负例，也就是0或者1的取值。通过历史样本的学习，我们得到一个模型，当给定新的X的时候，可以预测出y。这里我们得到的y是一个预测的概率，通常不是0%和100%，而是中间的值，那么我们就可以认为概率大于50%的时候，即为发生（正例），概率小于50%的时候，即为不发生（负例）。这样就完成了二分类的预测。\n",
    "\n",
    "在sklearn中有逻辑回归的模型，那如何使用sklearn中的逻辑回归工具。在sklearn中，我们使用LogisticRegression()函数构建逻辑回归分类器，函数里面有一些常用的构造参数：\n",
    "\n",
    "1、penalty：惩罚项，取值为l1或者l2，默认是l2。当模型参数满足高斯分布的时候，使用l2，当模型参数满足拉普拉斯分布的时候，使用l1；\n",
    "\n",
    "2、solver：代表的是逻辑回归损失函数的优化方法。有5个参数可选，分别是liblinear、lbfgs、newton-cg、sag和saga。默认是liblinear，适用于数据量小的数据集，当数据量大的时候可以使用sag或者saga方法。\n",
    "\n",
    "3、max_iter:算法收敛的最大迭代次数，默认是10.\n",
    "\n",
    "4、n_jobs：拟合和预测的时候CPU的核数，默认是1，也可以是整数，如果是-1则代表CPU的核数。\n",
    "\n",
    "当我们创建好之后，就可以使用fit函数进行拟合，使用predict函数预测。"
   ]
  },
  {
   "cell_type": "markdown",
   "metadata": {},
   "source": [
    "## 模型评估指标"
   ]
  },
  {
   "cell_type": "markdown",
   "metadata": {},
   "source": [
    "我们之前对模型做评估的时候，通常使用的是准确率(accuracy),它指的是分类器正确分类的样本数与总体的样本数之间的比例。这个指标对大部分的分类情况是有效的，不过当分类结果严重不平衡的时候，准确率很难反映模型的好坏。\n",
    "\n",
    "举个例子，对于机场的安检中恐怖分子的判断，就不能采用准确率对模型进行评估。我们知道恐怖分子的比例是极低的，因此当我们使用准确率做判断的时候，如果准确率高达99.999%,就说明这个模型一定好吗？\n",
    "\n",
    "其实正是因为现实生活中恐怖分子的比例极低，就算我们不能识别出一个恐怖分子，也会得到非常高的准确率。因为准确率的评判标准是正确分类中的样本个数与总体样本数之间的比例。因此非恐怖分子的比例会很高，就算我们识别不出恐怖分子，正确分类的个数占总体样本的比例也会很高，也就是准确率很高。\n",
    "\n",
    "实际上我们应该更加关注恐怖分子的识别，这里介绍数据预测的四种情况:TP,FP,TN,FN. 我们用第二个字母P或N代表预测正例还是负例，P为正，N为负。第一个字母T或者F代表的是预测结果是否正确，T为正确，F为错误。\n",
    "\n",
    "所以四种情况分别为：\n",
    "- 1.TP：预测为正，判断正确；\n",
    "- 2.FP：预测为正，判断错误；\n",
    "- 3.TN：预测为负，判断正确；\n",
    "- 4.FN：预测为负，判断错误；\n",
    "\n",
    "`\n",
    "(0, 0)格子真实值和预测值都为0，称为预测Negative正确，记作True Negative，简写为TN。\n",
    "(0, 1)格子真实值为0，但预测值为1，称为预测Positive错误，记作False Positive，简写为FP。\n",
    "(1, 0)格子真实值为1， 但预测值为0，称为预测Negative错误，记作False Negative，简写为FN。\n",
    "(1, 1)格子真实值和预测值都为1，称为预测Positive正确，记作True Positive，简写为TP。\n",
    "`\n",
    "\n",
    "我们知道样本总数=TP+FP+TN+FN，预测正确的样本数为TP+TN，因此准确率Accuracy = (TP+TN)/(TP+TN+FN+FP)。\n",
    "\n",
    "实际上，对于分类不平衡的情况，有两个指标非常重要，他们分别是精确度和召回率。\n",
    "\n",
    "精确率P = TP/(TP+FP)，对应上面的额恐怖分子这个例子，在所有判断为恐怖分子的人数中，真正是恐怖分子的比例。\n",
    "\n",
    "召回率R = TP/(TP+FN)，也称为查全率。代表的是恐怖分子被正确识别出来的个数与恐怖分子总数的比例。\n",
    "\n",
    "为什么要统计召回率和精确率这两个指标呢？假设我们只统计召回率，当召回率等于100%的时候，模型是否是真的好呢？\n",
    "\n",
    "举个例子，假设我们把机场的所有的人都认为是恐怖分子，恐怖分子都会被正确识别，这个数字与恐怖分子的总数比例等于100%，但是这个结果是没有意义的。如果我们认为机场里面所有人都是恐怖分子的话，那么非恐怖分子（极高的比例）都会认为是恐怖分子，误判率太高了。\n",
    "\n",
    "实际上有一个指标综合了精确率和召回率，可以更好地评估模型的好坏。这个指标叫做F1，用公式表示为：\n",
    "\n",
    "![](F1精确召回评估公式.png)\n",
    "\n",
    "F1作为精确率P和召回率R的调和平均，数值越大代表模型的结果越好。"
   ]
  },
  {
   "cell_type": "markdown",
   "metadata": {},
   "source": [
    "## 对信用卡违约率进行分析"
   ]
  },
  {
   "cell_type": "markdown",
   "metadata": {},
   "source": [
    "数据集是一个大小为大于100M的CSV数据文件（284807条数据），数据集中包含了2013年9月份两天时间内的信用卡交易数据，284807笔交易中，一共有492笔是欺诈行为。输入数据一共包含了28个特征V1，V2，...，V28对应的取值，以及交易的时间Time和交易的金额Amount。为了保护隐私，我们不知道V1到V28这些特征代表的具体的含义，只知道这28个特征值是通过PCA变换(即主成分分析技术，又称主分量分析。主成分分析也称主分量分析，旨在利用降维的思想，把多指标转化为少数几个综合指标。)得到的结果。另外字段的Class代表的是该笔交易的分类，Class=0为正常（非欺诈），Class=1代表欺诈。\n",
    "\n",
    "我们的目标是针对这个数据集构建一个信用卡欺诈分析的分类器，采用的是逻辑回归。从数据中我们能看到欺诈行为只占到了492/284807=0.172%,数据分类结果的分布是非常不平衡的，因此我们不能使用准确率评估模型的好坏，而是需要统计F1值（综合精确率和召回率）。我们先梳理一下整个流程：\n",
    "- 1、数据获取\n",
    "- 2、准备阶段：数据探索->数据规范化->数据集划分\n",
    "- 3、分类阶段：模型创建->模型训练->模型评估\n",
    "![](逻辑回归分类流程.jpg)\n",
    "\n",
    "1、加载数据；\n",
    "\n",
    "2、准备阶段：我们需要探索数据，使用数据可视化的方式查看分类结果的情况，以及随着时间的变化，欺诈交易和正常的交易的分布情况。上面已经提到过，V1-V28的特征值都通过了PCA的变换，但是其余的两个字段，Time和Account还需要进行规范化。Time字段和交易本身是否为欺诈交易无关，因此我们不做为特征选择，只需要对account做数据规范化就行了。同时数据集没有专门的测试集，因此使用train_test_split对数据集进行划分。\n",
    "\n",
    "3、分类阶段：我们需要创建逻辑回归分类器，然后传入训练集数据进行训练，并传入测试集预测结果，将预测结果与测试集的结果进行对比。这里的模型评估指标使用到精确率、召回率和F1值。同时我们将精确率-召回率进行了可视化呈现。\n",
    "\n",
    "基于上面的流程，具体代码如下："
   ]
  },
  {
   "cell_type": "code",
   "execution_count": 15,
   "metadata": {},
   "outputs": [
    {
     "name": "stdout",
     "output_type": "stream",
     "text": [
      "                Time            V1            V2            V3            V4  \\\n",
      "count  284807.000000  2.848070e+05  2.848070e+05  2.848070e+05  2.848070e+05   \n",
      "mean    94813.859575  1.165980e-15  3.416908e-16 -1.373150e-15  2.086869e-15   \n",
      "std     47488.145955  1.958696e+00  1.651309e+00  1.516255e+00  1.415869e+00   \n",
      "min         0.000000 -5.640751e+01 -7.271573e+01 -4.832559e+01 -5.683171e+00   \n",
      "25%     54201.500000 -9.203734e-01 -5.985499e-01 -8.903648e-01 -8.486401e-01   \n",
      "50%     84692.000000  1.810880e-02  6.548556e-02  1.798463e-01 -1.984653e-02   \n",
      "75%    139320.500000  1.315642e+00  8.037239e-01  1.027196e+00  7.433413e-01   \n",
      "max    172792.000000  2.454930e+00  2.205773e+01  9.382558e+00  1.687534e+01   \n",
      "\n",
      "                 V5            V6            V7            V8            V9  \\\n",
      "count  2.848070e+05  2.848070e+05  2.848070e+05  2.848070e+05  2.848070e+05   \n",
      "mean   9.604066e-16  1.490107e-15 -5.556467e-16  1.177556e-16 -2.406455e-15   \n",
      "std    1.380247e+00  1.332271e+00  1.237094e+00  1.194353e+00  1.098632e+00   \n",
      "min   -1.137433e+02 -2.616051e+01 -4.355724e+01 -7.321672e+01 -1.343407e+01   \n",
      "25%   -6.915971e-01 -7.682956e-01 -5.540759e-01 -2.086297e-01 -6.430976e-01   \n",
      "50%   -5.433583e-02 -2.741871e-01  4.010308e-02  2.235804e-02 -5.142873e-02   \n",
      "75%    6.119264e-01  3.985649e-01  5.704361e-01  3.273459e-01  5.971390e-01   \n",
      "max    3.480167e+01  7.330163e+01  1.205895e+02  2.000721e+01  1.559499e+01   \n",
      "\n",
      "       ...           V21           V22           V23           V24  \\\n",
      "count  ...  2.848070e+05  2.848070e+05  2.848070e+05  2.848070e+05   \n",
      "mean   ...  1.656562e-16 -3.444850e-16  2.578648e-16  4.471968e-15   \n",
      "std    ...  7.345240e-01  7.257016e-01  6.244603e-01  6.056471e-01   \n",
      "min    ... -3.483038e+01 -1.093314e+01 -4.480774e+01 -2.836627e+00   \n",
      "25%    ... -2.283949e-01 -5.423504e-01 -1.618463e-01 -3.545861e-01   \n",
      "50%    ... -2.945017e-02  6.781943e-03 -1.119293e-02  4.097606e-02   \n",
      "75%    ...  1.863772e-01  5.285536e-01  1.476421e-01  4.395266e-01   \n",
      "max    ...  2.720284e+01  1.050309e+01  2.252841e+01  4.584549e+00   \n",
      "\n",
      "                V25           V26           V27           V28         Amount  \\\n",
      "count  2.848070e+05  2.848070e+05  2.848070e+05  2.848070e+05  284807.000000   \n",
      "mean   5.340915e-16  1.687098e-15 -3.666453e-16 -1.220404e-16      88.349619   \n",
      "std    5.212781e-01  4.822270e-01  4.036325e-01  3.300833e-01     250.120109   \n",
      "min   -1.029540e+01 -2.604551e+00 -2.256568e+01 -1.543008e+01       0.000000   \n",
      "25%   -3.171451e-01 -3.269839e-01 -7.083953e-02 -5.295979e-02       5.600000   \n",
      "50%    1.659350e-02 -5.213911e-02  1.342146e-03  1.124383e-02      22.000000   \n",
      "75%    3.507156e-01  2.409522e-01  9.104512e-02  7.827995e-02      77.165000   \n",
      "max    7.519589e+00  3.517346e+00  3.161220e+01  3.384781e+01   25691.160000   \n",
      "\n",
      "               Class  \n",
      "count  284807.000000  \n",
      "mean        0.001727  \n",
      "std         0.041527  \n",
      "min         0.000000  \n",
      "25%         0.000000  \n",
      "50%         0.000000  \n",
      "75%         0.000000  \n",
      "max         1.000000  \n",
      "\n",
      "[8 rows x 31 columns]\n"
     ]
    },
    {
     "data": {
      "image/png": "[encoded data removed]",
      "text/plain": [
       "<Figure size 432x288 with 1 Axes>"
      ]
     },
     "metadata": {
      "needs_background": "light"
     },
     "output_type": "display_data"
    },
    {
     "name": "stdout",
     "output_type": "stream",
     "text": [
      "总交易笔数： 284807\n",
      "诈骗交易笔数： 492\n",
      "诈骗交易比例：0.001727\n"
     ]
    },
    {
     "data": {
      "image/png": "[encoded data removed]",
      "text/plain": [
       "<Figure size 1080x576 with 2 Axes>"
      ]
     },
     "metadata": {
      "needs_background": "light"
     },
     "output_type": "display_data"
    },
    {
     "data": {
      "image/png": "[encoded data removed]",
      "text/plain": [
       "<Figure size 432x288 with 2 Axes>"
      ]
     },
     "metadata": {
      "needs_background": "light"
     },
     "output_type": "display_data"
    },
    {
     "name": "stdout",
     "output_type": "stream",
     "text": [
      "精确率：0.841\n",
      "召回率：0.617\n",
      "F1 值：0.712\n"
     ]
    },
    {
     "data": {
      "image/png": "[encoded data removed]",
      "text/plain": [
       "<Figure size 432x288 with 1 Axes>"
      ]
     },
     "metadata": {
      "needs_background": "light"
     },
     "output_type": "display_data"
    }
   ],
   "source": [
    "# -*- coding:utf-8 -*-\n",
    "# 使用逻辑回归对信用卡欺诈进行分类\n",
    "import pandas as pd\n",
    "import numpy as np\n",
    "import seaborn as sns\n",
    "import matplotlib.pyplot as plt\n",
    "import itertools\n",
    "from sklearn.linear_model import LogisticRegression\n",
    "from sklearn.model_selection import train_test_split\n",
    "from sklearn.metrics import confusion_matrix, precision_recall_curve\n",
    "from sklearn.preprocessing import StandardScaler\n",
    "import warnings\n",
    "warnings.filterwarnings('ignore')\n",
    "\n",
    "# 混淆矩阵可视化\n",
    "def plot_confusion_matrix(cm, classes, normalize = False, title = 'Confusion matrix', cmap = plt.cm.Blues):\n",
    "    plt.figure()\n",
    "    plt.imshow(cm, interpolation = 'nearest', cmap = cmap)\n",
    "    plt.title(title)\n",
    "    plt.colorbar()\n",
    "    tick_marks = np.arange(len(classes))\n",
    "    plt.xticks(tick_marks, classes, rotation = 0)\n",
    "    plt.yticks(tick_marks, classes)\n",
    "    \n",
    "    thresh = cm.max() / 2.\n",
    "    for i, j in itertools.product(range(cm.shape[0]), range(cm.shape[1])):\n",
    "        plt.text(j, i, cm[i, j],\n",
    "                horizontalalignment = 'center',\n",
    "                color = 'white' if cm[i,j] > thresh else 'black')\n",
    "    \n",
    "    plt.tight_layout()\n",
    "    plt.ylabel('True label')\n",
    "    plt.xlabel('Predicted label')\n",
    "    plt.show()\n",
    "    \n",
    "\n",
    "# 显示模型的评估结果\n",
    "def show_metrics():\n",
    "    tp = cm[1,1]\n",
    "    fn = cm[1,0]\n",
    "    fp = cm[0,1]\n",
    "    tn = cm[0,0]\n",
    "    print('精确率：{:.3f}'.format(tp/(tp+fp)))\n",
    "    print('召回率：{:.3f}'.format(tp/(tp+fn)))\n",
    "    print('F1 值：{:.3f}'.format(  2*(  ( (tp/(tp+fp))*(tp/(tp+fn)) )/( (tp/(tp+fp))+(tp/(tp+fn)) )   )  ))\n",
    "    \n",
    "          \n",
    "# 绘制精确率 - 召回率曲线\n",
    "def plot_precision_recall():\n",
    "    plt.step(recall, precision, color = 'b', alpha = 0.2, where = 'post')\n",
    "    plt.fill_between(recall, precision, step = 'post', alpha = 0.2, color = 'b')\n",
    "    plt.plot(recall, precision, linewidth=2)\n",
    "    plt.xlim([0.0,1])\n",
    "    plt.ylim([0.0,1.05])\n",
    "    plt.xlabel('召回率')\n",
    "    plt.ylabel('精确率')\n",
    "    plt.title('精确率 - 召回率 曲线')\n",
    "    plt.show()\n",
    "    \n",
    "\n",
    "# 数据加载\n",
    "data = pd.read_csv('./creditcard.csv')\n",
    "# 数据探索\n",
    "print(data.describe())\n",
    "# 设置plt正确显示为中文\n",
    "plt.rcParams['font.sans-serif'] = ['SimHei']\n",
    "# 绘制类型分布\n",
    "plt.figure()\n",
    "ax = sns.countplot(x = 'Class', data = data)\n",
    "plt.title('类别分布')\n",
    "plt.show()\n",
    "# 显示交易笔数，欺诈交易笔数,class=1的是欺诈的\n",
    "num = len(data)\n",
    "num_fraud = len(data[data['Class']==1])\n",
    "print('总交易笔数：', num)\n",
    "print('诈骗交易笔数：', num_fraud)\n",
    "print('诈骗交易比例：{:.6f}'.format(num_fraud/num))\n",
    "# 欺诈和正常交易可视化，sharex共用一个x轴\n",
    "f, (ax1, ax2) = plt.subplots(2, 1, sharex=True, figsize=(15,8))\n",
    "bins = 50\n",
    "ax1.hist(data.Time[data.Class == 1], bins = bins, color = 'deeppink')\n",
    "ax1.set_title('欺骗交易')\n",
    "ax2.hist(data.Time[data.Class == 0], bins = bins, color = 'deepskyblue')\n",
    "ax2.set_title('正常交易')\n",
    "plt.xlabel('时间')\n",
    "plt.ylabel('交易次数')\n",
    "plt.show()\n",
    "# 对Amount 进行数据规范化，使用高斯分布\n",
    "data['Amount_Norm'] = StandardScaler().fit_transform(data['Amount'].values.reshape(-1,1))\n",
    "# 特征选择（去掉Time，Amount，Class）\n",
    "y = np.array(data.Class.tolist())\n",
    "data = data.drop(['Time', 'Amount', 'Class'], axis = 1)\n",
    "X = np.array(data.as_matrix())\n",
    "# 准备训练集和测试集\n",
    "train_x, test_x, train_y, test_y = train_test_split(X, y, test_size = 0.1, random_state = 33)\n",
    "\n",
    "# 逻辑回归分类\n",
    "clf = LogisticRegression()\n",
    "clf.fit(train_x, train_y)\n",
    "predict_y = clf.predict(test_x)\n",
    "# 预测样本的置信分数\n",
    "score_y = clf.decision_function(test_x)\n",
    "# 计算混淆矩阵，并显示\n",
    "cm = confusion_matrix(test_y, predict_y)\n",
    "class_names = [0,1]\n",
    "# 显示混淆矩阵\n",
    "plot_confusion_matrix(cm, classes = class_names, title = '逻辑回归 混淆矩阵')\n",
    "# 显示模型评估分数\n",
    "show_metrics()\n",
    "# 计算精确率，召回率，阈值用于可视化\n",
    "precision, recall, thresholds = precision_recall_curve(test_y, score_y)\n",
    "\n",
    "plot_precision_recall()"
   ]
  },
  {
   "cell_type": "markdown",
   "metadata": {},
   "source": [
    "我们能够看出来欺诈交易的笔数为492笔，占所有的交易的比例是很低的，即0.001727.我们通过数据的可视化方式对欺诈交易和正常交易的分布进行呈现。另外通过可视化，我们也能看出精确率和召回率之间的关系，当精确率很高的时候，召回率往往很低，召回率很高的时候，精确率会比较低\n",
    "\n",
    "代码中的一些模块说明：\n",
    "\n",
    "定义了plot_confusion_matrix函数对混淆矩阵进行了可视化。什么是混淆矩阵？混淆矩阵其实也叫误差矩阵，实际上它是TP、FP、TN、FN这四个数值的矩阵表示，帮助我们判断预测值和实际值相比。对了多少。从这个例子中，我们能够看出TP=37，FP=7，FN=23.所以精确率p=TP/(TP+FP)=37/(37+7)=0.841,召回率R=TP/(TP+FN)=37/(37+23)=0.617.\n",
    "\n",
    "然后使用了sklearn中的precision_recall_curve函数，通过预测值和真实值来计算精确值-召回率曲线。precision_recall_curve函数会计算在不同的概率阈值情况下的精确率和召回率。最后定义plot_precision_recall函数，绘制曲线。"
   ]
  },
  {
   "cell_type": "markdown",
   "metadata": {},
   "source": [
    "## 总结"
   ]
  },
  {
   "cell_type": "markdown",
   "metadata": {},
   "source": [
    "1、学习了逻辑回归的概念和相关工具的使用，另外学习了在数据样本不平衡的情况下，如何评估模型。这里我们需要了解精确率，召回率和F1的概念和计算方式。\n",
    "\n",
    "2、在信用卡欺诈分析的项目中，我们使用了逻辑回归的工具，并对混淆矩阵进行了计算，同时在模型结果评估中，使用了精确率、召回率和F1值，最后得到精确率-召回率曲线的可视化结果。\n",
    "\n",
    "3、这里我们知道，不是所有的分类都是样本平衡的情况，针对正例比例极端的情况，比如信用卡欺诈，某些疾病，或者恐怖分子的判断等等，都需要采用精确率-召回率来进行计算统计。\n",
    "\n",
    "4、信用卡欺诈分析\n",
    "- 逻辑回归\n",
    "    - 概念：也叫做logistic回归，主要解决的是二分类问题，在逻辑回归中使用了Logistic函数，也称为Sigmoid函数\n",
    "    - 构造函数LogisticRegression()\n",
    "        - penalty:惩罚项，取值为l1或者l2，默认是l2.l2假设的模型参数满足高斯分布，l1假设的模型参数满足拉普拉斯分布\n",
    "        - solver:代表的是逻辑回归损失函数的优化方法。可以有5个参数可选，分别为：liblinear，lbfgs，newton-cg，sag，saga。默认是liblinear\n",
    "        - max_iter：算法的收敛的最大迭代次数，默认是10.\n",
    "        - n_jobs:拟合和预测的时候CPU的核数，可能是1，也可以是整数，如果是-1则代表CPU的核数\n",
    "    - 功能函数：\n",
    "        - fit()函数进行拟合\n",
    "        - predict()函数进行预测\n",
    "- 模型评估指标\n",
    "    - 准确率Accuracy=(TP+TN)/(TP+TN+FN+FP)\n",
    "    - 精确率P = TP/(TP+FP)\n",
    "    - 召回率R = TP/(TP+FN)\n",
    "- 项目流程\n",
    "    - 准备阶段：数据探索，数据规范化，数据集划分\n",
    "    - 分类阶段：模型创建，模型训练，模型评估\n",
    "\n",
    "![](信用卡欺骗分析.png)"
   ]
  },
  {
   "cell_type": "markdown",
   "metadata": {},
   "source": [
    "### 练习：\n",
    "使用的信用卡欺诈数据集中还有哪些数据属于不平衡的数据？\n",
    "- 所有的小概率事件都属于不平衡数集，数据集中每个类别下的样本数目相差很大\n",
    "    - 比如得某种病，出现车祸或者意外\n",
    "    - 自然灾害预测（不好的事情远远小于好的事情）\n",
    "    - 买彩票中奖（小概率）\n",
    "    - 检查出厂冰箱的合格率，本来合格率就高达了96%。如果对样本进行检测，准确率也是很高的，那么将会无法判断次品。\n",
    "    - 检查邮件中的垃圾邮件，因为垃圾邮件占全部邮件极少的部分，所以也是属于不平衡数据集\n",
    "\n",
    "使用SVM（对应sklearn中的LinearSVC）对信用卡欺诈数据集进行分类，并计算请确率、召回率和F1值。"
   ]
  },
  {
   "cell_type": "code",
   "execution_count": 14,
   "metadata": {},
   "outputs": [
    {
     "name": "stdout",
     "output_type": "stream",
     "text": [
      "                Time            V1            V2            V3            V4  \\\n",
      "count  284807.000000  2.848070e+05  2.848070e+05  2.848070e+05  2.848070e+05   \n",
      "mean    94813.859575  1.165980e-15  3.416908e-16 -1.373150e-15  2.086869e-15   \n",
      "std     47488.145955  1.958696e+00  1.651309e+00  1.516255e+00  1.415869e+00   \n",
      "min         0.000000 -5.640751e+01 -7.271573e+01 -4.832559e+01 -5.683171e+00   \n",
      "25%     54201.500000 -9.203734e-01 -5.985499e-01 -8.903648e-01 -8.486401e-01   \n",
      "50%     84692.000000  1.810880e-02  6.548556e-02  1.798463e-01 -1.984653e-02   \n",
      "75%    139320.500000  1.315642e+00  8.037239e-01  1.027196e+00  7.433413e-01   \n",
      "max    172792.000000  2.454930e+00  2.205773e+01  9.382558e+00  1.687534e+01   \n",
      "\n",
      "                 V5            V6            V7            V8            V9  \\\n",
      "count  2.848070e+05  2.848070e+05  2.848070e+05  2.848070e+05  2.848070e+05   \n",
      "mean   9.604066e-16  1.490107e-15 -5.556467e-16  1.177556e-16 -2.406455e-15   \n",
      "std    1.380247e+00  1.332271e+00  1.237094e+00  1.194353e+00  1.098632e+00   \n",
      "min   -1.137433e+02 -2.616051e+01 -4.355724e+01 -7.321672e+01 -1.343407e+01   \n",
      "25%   -6.915971e-01 -7.682956e-01 -5.540759e-01 -2.086297e-01 -6.430976e-01   \n",
      "50%   -5.433583e-02 -2.741871e-01  4.010308e-02  2.235804e-02 -5.142873e-02   \n",
      "75%    6.119264e-01  3.985649e-01  5.704361e-01  3.273459e-01  5.971390e-01   \n",
      "max    3.480167e+01  7.330163e+01  1.205895e+02  2.000721e+01  1.559499e+01   \n",
      "\n",
      "       ...           V21           V22           V23           V24  \\\n",
      "count  ...  2.848070e+05  2.848070e+05  2.848070e+05  2.848070e+05   \n",
      "mean   ...  1.656562e-16 -3.444850e-16  2.578648e-16  4.471968e-15   \n",
      "std    ...  7.345240e-01  7.257016e-01  6.244603e-01  6.056471e-01   \n",
      "min    ... -3.483038e+01 -1.093314e+01 -4.480774e+01 -2.836627e+00   \n",
      "25%    ... -2.283949e-01 -5.423504e-01 -1.618463e-01 -3.545861e-01   \n",
      "50%    ... -2.945017e-02  6.781943e-03 -1.119293e-02  4.097606e-02   \n",
      "75%    ...  1.863772e-01  5.285536e-01  1.476421e-01  4.395266e-01   \n",
      "max    ...  2.720284e+01  1.050309e+01  2.252841e+01  4.584549e+00   \n",
      "\n",
      "                V25           V26           V27           V28         Amount  \\\n",
      "count  2.848070e+05  2.848070e+05  2.848070e+05  2.848070e+05  284807.000000   \n",
      "mean   5.340915e-16  1.687098e-15 -3.666453e-16 -1.220404e-16      88.349619   \n",
      "std    5.212781e-01  4.822270e-01  4.036325e-01  3.300833e-01     250.120109   \n",
      "min   -1.029540e+01 -2.604551e+00 -2.256568e+01 -1.543008e+01       0.000000   \n",
      "25%   -3.171451e-01 -3.269839e-01 -7.083953e-02 -5.295979e-02       5.600000   \n",
      "50%    1.659350e-02 -5.213911e-02  1.342146e-03  1.124383e-02      22.000000   \n",
      "75%    3.507156e-01  2.409522e-01  9.104512e-02  7.827995e-02      77.165000   \n",
      "max    7.519589e+00  3.517346e+00  3.161220e+01  3.384781e+01   25691.160000   \n",
      "\n",
      "               Class  \n",
      "count  284807.000000  \n",
      "mean        0.001727  \n",
      "std         0.041527  \n",
      "min         0.000000  \n",
      "25%         0.000000  \n",
      "50%         0.000000  \n",
      "75%         0.000000  \n",
      "max         1.000000  \n",
      "\n",
      "[8 rows x 31 columns]\n"
     ]
    },
    {
     "data": {
      "image/png": "[encoded data removed]",
      "text/plain": [
       "<Figure size 432x288 with 1 Axes>"
      ]
     },
     "metadata": {
      "needs_background": "light"
     },
     "output_type": "display_data"
    },
    {
     "name": "stdout",
     "output_type": "stream",
     "text": [
      "总交易笔数： 284807\n",
      "诈骗交易笔数： 492\n",
      "诈骗交易比例：0.001727\n"
     ]
    },
    {
     "data": {
      "image/png": "[encoded data removed]",
      "text/plain": [
       "<Figure size 1080x576 with 2 Axes>"
      ]
     },
     "metadata": {
      "needs_background": "light"
     },
     "output_type": "display_data"
    },
    {
     "data": {
      "image/png": "[encoded data removed]",
      "text/plain": [
       "<Figure size 432x288 with 2 Axes>"
      ]
     },
     "metadata": {
      "needs_background": "light"
     },
     "output_type": "display_data"
    },
    {
     "name": "stdout",
     "output_type": "stream",
     "text": [
      "精确率：0.846\n",
      "召回率：0.733\n",
      "F1 值：0.786\n"
     ]
    },
    {
     "data": {
      "image/png": "[encoded data removed]",
      "text/plain": [
       "<Figure size 432x288 with 1 Axes>"
      ]
     },
     "metadata": {
      "needs_background": "light"
     },
     "output_type": "display_data"
    }
   ],
   "source": [
    "# -*- coding:utf-8 -*-\n",
    "# 使用逻辑回归对信用卡欺诈进行分类\n",
    "import pandas as pd\n",
    "import numpy as np\n",
    "import seaborn as sns\n",
    "import matplotlib.pyplot as plt\n",
    "import itertools\n",
    "from sklearn.linear_model import LogisticRegression\n",
    "from sklearn import svm  # 使用svm进行分类\n",
    "from sklearn.model_selection import train_test_split\n",
    "from sklearn.metrics import confusion_matrix, precision_recall_curve\n",
    "from sklearn.preprocessing import StandardScaler\n",
    "import warnings\n",
    "warnings.filterwarnings('ignore')\n",
    "\n",
    "# 混淆矩阵可视化\n",
    "def plot_confusion_matrix(cm, classes, normalize = False, title = 'Confusion matrix', cmap = plt.cm.Blues):\n",
    "    plt.figure()\n",
    "    plt.imshow(cm, interpolation = 'nearest', cmap = cmap)\n",
    "    plt.title(title)\n",
    "    plt.colorbar()\n",
    "    tick_marks = np.arange(len(classes))\n",
    "    plt.xticks(tick_marks, classes, rotation = 0)\n",
    "    plt.yticks(tick_marks, classes)\n",
    "    \n",
    "    thresh = cm.max() / 2.\n",
    "    for i, j in itertools.product(range(cm.shape[0]), range(cm.shape[1])):\n",
    "        plt.text(j, i, cm[i, j],\n",
    "                horizontalalignment = 'center',\n",
    "                color = 'white' if cm[i,j] > thresh else 'black')\n",
    "    \n",
    "    plt.tight_layout()\n",
    "    plt.ylabel('True label')\n",
    "    plt.xlabel('Predicted label')\n",
    "    plt.show()\n",
    "    \n",
    "\n",
    "# 显示模型的评估结果\n",
    "def show_metrics():\n",
    "    tp = cm[1,1]\n",
    "    fn = cm[1,0]\n",
    "    fp = cm[0,1]\n",
    "    tn = cm[0,0]\n",
    "    print('精确率：{:.3f}'.format(tp/(tp+fp)))\n",
    "    print('召回率：{:.3f}'.format(tp/(tp+fn)))\n",
    "    print('F1 值：{:.3f}'.format(  2*(  ( (tp/(tp+fp))*(tp/(tp+fn)) )/( (tp/(tp+fp))+(tp/(tp+fn)) )   )  ))\n",
    "    \n",
    "          \n",
    "# 绘制精确率 - 召回率曲线\n",
    "def plot_precision_recall():\n",
    "    plt.step(recall, precision, color = 'b', alpha = 0.2, where = 'post')\n",
    "    plt.fill_between(recall, precision, step = 'post', alpha = 0.2, color = 'b')\n",
    "    plt.plot(recall, precision, linewidth=2)\n",
    "    plt.xlim([0.0,1])\n",
    "    plt.ylim([0.0,1.05])\n",
    "    plt.xlabel('召回率')\n",
    "    plt.ylabel('精确率')\n",
    "    plt.title('精确率 - 召回率 曲线')\n",
    "    plt.show()\n",
    "    \n",
    "\n",
    "# 数据加载\n",
    "data = pd.read_csv('./creditcard.csv')\n",
    "# 数据探索\n",
    "print(data.describe())\n",
    "# 设置plt正确显示为中文\n",
    "plt.rcParams['font.sans-serif'] = ['SimHei']\n",
    "# 绘制类型分布\n",
    "plt.figure()\n",
    "ax = sns.countplot(x = 'Class', data = data)\n",
    "plt.title('类别分布')\n",
    "plt.show()\n",
    "# 显示交易笔数，欺诈交易笔数,class=1的是欺诈的\n",
    "num = len(data)\n",
    "num_fraud = len(data[data['Class']==1])\n",
    "print('总交易笔数：', num)\n",
    "print('诈骗交易笔数：', num_fraud)\n",
    "print('诈骗交易比例：{:.6f}'.format(num_fraud/num))\n",
    "# 欺诈和正常交易可视化，sharex共用一个x轴\n",
    "f, (ax1, ax2) = plt.subplots(2, 1, sharex=True, figsize=(15,8))\n",
    "bins = 50\n",
    "ax1.hist(data.Time[data.Class == 1], bins = bins, color = 'deeppink')\n",
    "ax1.set_title('欺骗交易')\n",
    "ax2.hist(data.Time[data.Class == 0], bins = bins, color = 'deepskyblue')\n",
    "ax2.set_title('正常交易')\n",
    "plt.xlabel('时间')\n",
    "plt.ylabel('交易次数')\n",
    "plt.show()\n",
    "# 对Amount 进行数据规范化，使用高斯分布\n",
    "data['Amount_Norm'] = StandardScaler().fit_transform(data['Amount'].values.reshape(-1,1))\n",
    "# 特征选择（去掉Time，Amount，Class）\n",
    "y = np.array(data.Class.tolist())\n",
    "data = data.drop(['Time', 'Amount', 'Class'], axis = 1)\n",
    "X = np.array(data.as_matrix())\n",
    "# 准备训练集和测试集\n",
    "train_x, test_x, train_y, test_y = train_test_split(X, y, test_size = 0.1, random_state = 33)\n",
    "\n",
    "# 逻辑回归分类\n",
    "# clf = LogisticRegression()\n",
    "# 使用svm的LinearSVC分类\n",
    "clf = svm.LinearSVC()\n",
    "\n",
    "clf.fit(train_x, train_y)\n",
    "predict_y = clf.predict(test_x)\n",
    "# 预测样本的置信分数\n",
    "score_y = clf.decision_function(test_x)\n",
    "# 计算混淆矩阵，并显示\n",
    "cm = confusion_matrix(test_y, predict_y)\n",
    "class_names = [0,1]\n",
    "# 显示混淆矩阵\n",
    "plot_confusion_matrix(cm, classes = class_names, title = '逻辑回归 混淆矩阵')\n",
    "# 显示模型评估分数\n",
    "show_metrics()\n",
    "# 计算精确率，召回率，阈值用于可视化\n",
    "precision, recall, thresholds = precision_recall_curve(test_y, score_y)\n",
    "\n",
    "plot_precision_recall()"
   ]
  },
  {
   "cell_type": "code",
   "execution_count": null,
   "metadata": {},
   "outputs": [],
   "source": []
  },
  {
   "cell_type": "code",
   "execution_count": null,
   "metadata": {},
   "outputs": [],
   "source": []
  },
  {
   "cell_type": "code",
   "execution_count": null,
   "metadata": {},
   "outputs": [],
   "source": []
  },
  {
   "cell_type": "code",
   "execution_count": null,
   "metadata": {},
   "outputs": [],
   "source": []
  },
  {
   "cell_type": "code",
   "execution_count": null,
   "metadata": {},
   "outputs": [],
   "source": []
  },
  {
   "cell_type": "code",
   "execution_count": null,
   "metadata": {},
   "outputs": [],
   "source": []
  },
  {
   "cell_type": "code",
   "execution_count": null,
   "metadata": {},
   "outputs": [],
   "source": []
  },
  {
   "cell_type": "code",
   "execution_count": null,
   "metadata": {},
   "outputs": [],
   "source": []
  },
  {
   "cell_type": "code",
   "execution_count": null,
   "metadata": {},
   "outputs": [],
   "source": []
  },
  {
   "cell_type": "code",
   "execution_count": null,
   "metadata": {},
   "outputs": [],
   "source": []
  },
  {
   "cell_type": "code",
   "execution_count": null,
   "metadata": {},
   "outputs": [],
   "source": []
  },
  {
   "cell_type": "code",
   "execution_count": null,
   "metadata": {},
   "outputs": [],
   "source": []
  },
  {
   "cell_type": "code",
   "execution_count": null,
   "metadata": {},
   "outputs": [],
   "source": []
  },
  {
   "cell_type": "code",
   "execution_count": null,
   "metadata": {},
   "outputs": [],
   "source": []
  },
  {
   "cell_type": "code",
   "execution_count": null,
   "metadata": {},
   "outputs": [],
   "source": []
  },
  {
   "cell_type": "code",
   "execution_count": null,
   "metadata": {},
   "outputs": [],
   "source": []
  },
  {
   "cell_type": "code",
   "execution_count": null,
   "metadata": {},
   "outputs": [],
   "source": []
  },
  {
   "cell_type": "code",
   "execution_count": null,
   "metadata": {},
   "outputs": [],
   "source": []
  },
  {
   "cell_type": "code",
   "execution_count": null,
   "metadata": {},
   "outputs": [],
   "source": []
  },
  {
   "cell_type": "code",
   "execution_count": null,
   "metadata": {},
   "outputs": [],
   "source": []
  },
  {
   "cell_type": "code",
   "execution_count": null,
   "metadata": {},
   "outputs": [],
   "source": []
  },
  {
   "cell_type": "code",
   "execution_count": null,
   "metadata": {},
   "outputs": [],
   "source": []
  },
  {
   "cell_type": "code",
   "execution_count": null,
   "metadata": {},
   "outputs": [],
   "source": []
  },
  {
   "cell_type": "code",
   "execution_count": null,
   "metadata": {},
   "outputs": [],
   "source": []
  },
  {
   "cell_type": "code",
   "execution_count": null,
   "metadata": {},
   "outputs": [],
   "source": []
  },
  {
   "cell_type": "code",
   "execution_count": null,
   "metadata": {},
   "outputs": [],
   "source": []
  },
  {
   "cell_type": "code",
   "execution_count": null,
   "metadata": {},
   "outputs": [],
   "source": []
  },
  {
   "cell_type": "code",
   "execution_count": null,
   "metadata": {},
   "outputs": [],
   "source": []
  },
  {
   "cell_type": "code",
   "execution_count": null,
   "metadata": {},
   "outputs": [],
   "source": []
  },
  {
   "cell_type": "code",
   "execution_count": null,
   "metadata": {},
   "outputs": [],
   "source": []
  },
  {
   "cell_type": "code",
   "execution_count": null,
   "metadata": {},
   "outputs": [],
   "source": []
  },
  {
   "cell_type": "code",
   "execution_count": null,
   "metadata": {},
   "outputs": [],
   "source": []
  },
  {
   "cell_type": "code",
   "execution_count": null,
   "metadata": {},
   "outputs": [],
   "source": []
  },
  {
   "cell_type": "code",
   "execution_count": null,
   "metadata": {},
   "outputs": [],
   "source": []
  },
  {
   "cell_type": "code",
   "execution_count": null,
   "metadata": {},
   "outputs": [],
   "source": []
  },
  {
   "cell_type": "code",
   "execution_count": null,
   "metadata": {},
   "outputs": [],
   "source": []
  },
  {
   "cell_type": "code",
   "execution_count": null,
   "metadata": {},
   "outputs": [],
   "source": []
  },
  {
   "cell_type": "code",
   "execution_count": null,
   "metadata": {},
   "outputs": [],
   "source": []
  },
  {
   "cell_type": "code",
   "execution_count": null,
   "metadata": {},
   "outputs": [],
   "source": []
  },
  {
   "cell_type": "code",
   "execution_count": null,
   "metadata": {},
   "outputs": [],
   "source": []
  },
  {
   "cell_type": "code",
   "execution_count": null,
   "metadata": {},
   "outputs": [],
   "source": []
  },
  {
   "cell_type": "code",
   "execution_count": null,
   "metadata": {},
   "outputs": [],
   "source": []
  },
  {
   "cell_type": "code",
   "execution_count": null,
   "metadata": {},
   "outputs": [],
   "source": []
  },
  {
   "cell_type": "code",
   "execution_count": null,
   "metadata": {},
   "outputs": [],
   "source": []
  },
  {
   "cell_type": "code",
   "execution_count": null,
   "metadata": {},
   "outputs": [],
   "source": []
  },
  {
   "cell_type": "code",
   "execution_count": null,
   "metadata": {},
   "outputs": [],
   "source": []
  },
  {
   "cell_type": "code",
   "execution_count": null,
   "metadata": {},
   "outputs": [],
   "source": []
  },
  {
   "cell_type": "code",
   "execution_count": null,
   "metadata": {},
   "outputs": [],
   "source": []
  },
  {
   "cell_type": "code",
   "execution_count": null,
   "metadata": {},
   "outputs": [],
   "source": []
  },
  {
   "cell_type": "code",
   "execution_count": null,
   "metadata": {},
   "outputs": [],
   "source": []
  },
  {
   "cell_type": "code",
   "execution_count": null,
   "metadata": {},
   "outputs": [],
   "source": []
  },
  {
   "cell_type": "code",
   "execution_count": null,
   "metadata": {},
   "outputs": [],
   "source": []
  },
  {
   "cell_type": "code",
   "execution_count": null,
   "metadata": {},
   "outputs": [],
   "source": []
  },
  {
   "cell_type": "code",
   "execution_count": null,
   "metadata": {},
   "outputs": [],
   "source": []
  },
  {
   "cell_type": "code",
   "execution_count": null,
   "metadata": {},
   "outputs": [],
   "source": []
  },
  {
   "cell_type": "code",
   "execution_count": null,
   "metadata": {},
   "outputs": [],
   "source": []
  }
 ],
 "metadata": {
  "kernelspec": {
   "display_name": "Python 3",
   "language": "python",
   "name": "python3"
  },
  "language_info": {
   "codemirror_mode": {
    "name": "ipython",
    "version": 3
   },
   "file_extension": ".py",
   "mimetype": "text/x-python",
   "name": "python",
   "nbconvert_exporter": "python",
   "pygments_lexer": "ipython3",
   "version": "3.6.7"
  }
 },
 "nbformat": 4,
 "nbformat_minor": 2
}
